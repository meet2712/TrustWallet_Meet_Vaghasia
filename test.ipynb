{
  "cells": [
    {
      "metadata": {
        "id": "3293f0f28ab3c53f"
      },
      "cell_type": "markdown",
      "source": [
        "# Data Cleaning & Preparation\n",
        "\n",
        "> Load and Profile Data"
      ],
      "id": "3293f0f28ab3c53f"
    },
    {
      "metadata": {
        "ExecuteTime": {
          "end_time": "2025-05-24T17:10:24.245549Z",
          "start_time": "2025-05-24T17:10:24.002307Z"
        },
        "id": "9a07acb82329daec"
      },
      "cell_type": "code",
      "source": [
        "import pandas as pd\n",
        "\n",
        "# Load data\n",
        "file_path = 'Senior Data Analyst Task Transactions.csv'\n",
        "df = pd.read_csv(file_path)"
      ],
      "id": "9a07acb82329daec",
      "outputs": [],
      "execution_count": null
    },
    {
      "metadata": {
        "ExecuteTime": {
          "end_time": "2025-05-24T17:10:31.076102Z",
          "start_time": "2025-05-24T17:10:31.072942Z"
        },
        "id": "98d8eb233697a656",
        "outputId": "b05cd42e-0e6f-4fc1-c2ba-3fecb798f140"
      },
      "cell_type": "code",
      "source": [
        "df.shape"
      ],
      "id": "98d8eb233697a656",
      "outputs": [
        {
          "data": {
            "text/plain": [
              "(10000, 12)"
            ]
          },
          "execution_count": 3,
          "metadata": {},
          "output_type": "execute_result"
        }
      ],
      "execution_count": null
    },
    {
      "metadata": {
        "ExecuteTime": {
          "end_time": "2025-05-24T17:10:39.574128Z",
          "start_time": "2025-05-24T17:10:39.570724Z"
        },
        "id": "86d34ad5cf5e9de",
        "outputId": "4bde3a6b-ed3d-4d99-fe87-ab470eb25895"
      },
      "cell_type": "code",
      "source": [
        "df.columns"
      ],
      "id": "86d34ad5cf5e9de",
      "outputs": [
        {
          "data": {
            "text/plain": [
              "Index(['Transaction_ID', 'User_ID', 'Crypto', 'Transaction_Type', 'Amount',\n",
              "       'Price_Per_Unit', 'Total_Value', 'Transaction_Fee', 'Platform',\n",
              "       'Status', 'Wallet_Type', 'Transaction_Date'],\n",
              "      dtype='object')"
            ]
          },
          "execution_count": 4,
          "metadata": {},
          "output_type": "execute_result"
        }
      ],
      "execution_count": null
    },
    {
      "metadata": {
        "ExecuteTime": {
          "end_time": "2025-05-24T17:10:44.686570Z",
          "start_time": "2025-05-24T17:10:44.680778Z"
        },
        "id": "76060e445c498125",
        "outputId": "2a94183e-0fbb-47d8-f10f-98285ab0e701"
      },
      "cell_type": "code",
      "source": [
        "df.head()"
      ],
      "id": "76060e445c498125",
      "outputs": [
        {
          "data": {
            "text/plain": [
              "   Transaction_ID  User_ID    Crypto Transaction_Type     Amount  \\\n",
              "0          434465    31394   Bitcoin         Withdraw  57.695145   \n",
              "1          905397    39627    Solana            Stake  27.708982   \n",
              "2          451293    11506   Cardano              Buy  80.368977   \n",
              "3          841249    84005       XRP            Stake  83.900483   \n",
              "4          762686    66706  Dogecoin            Stake  52.528368   \n",
              "\n",
              "   Price_Per_Unit  Total_Value  Transaction_Fee Platform     Status  \\\n",
              "0        45248.78   2610634.92        114990.70   KuCoin  Completed   \n",
              "1        48307.43   1338549.71         34560.11  Binance     Failed   \n",
              "2        44428.82   3570698.81         38312.76      OKX    Pending   \n",
              "3         8755.31    734574.74          1396.89      FTX  Completed   \n",
              "4        58667.26   3081695.42         19087.58   Kraken    Pending   \n",
              "\n",
              "       Wallet_Type            Transaction_Date  \n",
              "0           Trezor  2024-04-10 09:51:58.222424  \n",
              "1      Cold Wallet  2023-10-04 09:51:58.222424  \n",
              "2       Hot Wallet  2024-11-15 09:51:58.222424  \n",
              "3  Exchange Wallet  2024-02-11 09:51:58.222424  \n",
              "4  Exchange Wallet  2023-09-15 09:51:58.222424  "
            ],
            "text/html": [
              "<div>\n",
              "<style scoped>\n",
              "    .dataframe tbody tr th:only-of-type {\n",
              "        vertical-align: middle;\n",
              "    }\n",
              "\n",
              "    .dataframe tbody tr th {\n",
              "        vertical-align: top;\n",
              "    }\n",
              "\n",
              "    .dataframe thead th {\n",
              "        text-align: right;\n",
              "    }\n",
              "</style>\n",
              "<table border=\"1\" class=\"dataframe\">\n",
              "  <thead>\n",
              "    <tr style=\"text-align: right;\">\n",
              "      <th></th>\n",
              "      <th>Transaction_ID</th>\n",
              "      <th>User_ID</th>\n",
              "      <th>Crypto</th>\n",
              "      <th>Transaction_Type</th>\n",
              "      <th>Amount</th>\n",
              "      <th>Price_Per_Unit</th>\n",
              "      <th>Total_Value</th>\n",
              "      <th>Transaction_Fee</th>\n",
              "      <th>Platform</th>\n",
              "      <th>Status</th>\n",
              "      <th>Wallet_Type</th>\n",
              "      <th>Transaction_Date</th>\n",
              "    </tr>\n",
              "  </thead>\n",
              "  <tbody>\n",
              "    <tr>\n",
              "      <th>0</th>\n",
              "      <td>434465</td>\n",
              "      <td>31394</td>\n",
              "      <td>Bitcoin</td>\n",
              "      <td>Withdraw</td>\n",
              "      <td>57.695145</td>\n",
              "      <td>45248.78</td>\n",
              "      <td>2610634.92</td>\n",
              "      <td>114990.70</td>\n",
              "      <td>KuCoin</td>\n",
              "      <td>Completed</td>\n",
              "      <td>Trezor</td>\n",
              "      <td>2024-04-10 09:51:58.222424</td>\n",
              "    </tr>\n",
              "    <tr>\n",
              "      <th>1</th>\n",
              "      <td>905397</td>\n",
              "      <td>39627</td>\n",
              "      <td>Solana</td>\n",
              "      <td>Stake</td>\n",
              "      <td>27.708982</td>\n",
              "      <td>48307.43</td>\n",
              "      <td>1338549.71</td>\n",
              "      <td>34560.11</td>\n",
              "      <td>Binance</td>\n",
              "      <td>Failed</td>\n",
              "      <td>Cold Wallet</td>\n",
              "      <td>2023-10-04 09:51:58.222424</td>\n",
              "    </tr>\n",
              "    <tr>\n",
              "      <th>2</th>\n",
              "      <td>451293</td>\n",
              "      <td>11506</td>\n",
              "      <td>Cardano</td>\n",
              "      <td>Buy</td>\n",
              "      <td>80.368977</td>\n",
              "      <td>44428.82</td>\n",
              "      <td>3570698.81</td>\n",
              "      <td>38312.76</td>\n",
              "      <td>OKX</td>\n",
              "      <td>Pending</td>\n",
              "      <td>Hot Wallet</td>\n",
              "      <td>2024-11-15 09:51:58.222424</td>\n",
              "    </tr>\n",
              "    <tr>\n",
              "      <th>3</th>\n",
              "      <td>841249</td>\n",
              "      <td>84005</td>\n",
              "      <td>XRP</td>\n",
              "      <td>Stake</td>\n",
              "      <td>83.900483</td>\n",
              "      <td>8755.31</td>\n",
              "      <td>734574.74</td>\n",
              "      <td>1396.89</td>\n",
              "      <td>FTX</td>\n",
              "      <td>Completed</td>\n",
              "      <td>Exchange Wallet</td>\n",
              "      <td>2024-02-11 09:51:58.222424</td>\n",
              "    </tr>\n",
              "    <tr>\n",
              "      <th>4</th>\n",
              "      <td>762686</td>\n",
              "      <td>66706</td>\n",
              "      <td>Dogecoin</td>\n",
              "      <td>Stake</td>\n",
              "      <td>52.528368</td>\n",
              "      <td>58667.26</td>\n",
              "      <td>3081695.42</td>\n",
              "      <td>19087.58</td>\n",
              "      <td>Kraken</td>\n",
              "      <td>Pending</td>\n",
              "      <td>Exchange Wallet</td>\n",
              "      <td>2023-09-15 09:51:58.222424</td>\n",
              "    </tr>\n",
              "  </tbody>\n",
              "</table>\n",
              "</div>"
            ]
          },
          "execution_count": 5,
          "metadata": {},
          "output_type": "execute_result"
        }
      ],
      "execution_count": null
    },
    {
      "metadata": {
        "ExecuteTime": {
          "end_time": "2025-05-24T17:10:51.702167Z",
          "start_time": "2025-05-24T17:10:51.694907Z"
        },
        "id": "cf3a29a57d283dae",
        "outputId": "ce3724d9-ae7c-41b3-b2c0-3b85d9a806ec"
      },
      "cell_type": "code",
      "source": [
        "df.info()"
      ],
      "id": "cf3a29a57d283dae",
      "outputs": [
        {
          "name": "stdout",
          "output_type": "stream",
          "text": [
            "<class 'pandas.core.frame.DataFrame'>\n",
            "RangeIndex: 10000 entries, 0 to 9999\n",
            "Data columns (total 12 columns):\n",
            " #   Column            Non-Null Count  Dtype  \n",
            "---  ------            --------------  -----  \n",
            " 0   Transaction_ID    10000 non-null  int64  \n",
            " 1   User_ID           10000 non-null  int64  \n",
            " 2   Crypto            10000 non-null  object \n",
            " 3   Transaction_Type  10000 non-null  object \n",
            " 4   Amount            10000 non-null  float64\n",
            " 5   Price_Per_Unit    10000 non-null  float64\n",
            " 6   Total_Value       10000 non-null  float64\n",
            " 7   Transaction_Fee   10000 non-null  float64\n",
            " 8   Platform          10000 non-null  object \n",
            " 9   Status            10000 non-null  object \n",
            " 10  Wallet_Type       10000 non-null  object \n",
            " 11  Transaction_Date  10000 non-null  object \n",
            "dtypes: float64(4), int64(2), object(6)\n",
            "memory usage: 937.6+ KB\n"
          ]
        }
      ],
      "execution_count": null
    },
    {
      "metadata": {
        "ExecuteTime": {
          "end_time": "2025-05-24T17:10:56.933147Z",
          "start_time": "2025-05-24T17:10:56.918252Z"
        },
        "id": "8c7bb5349bea879a",
        "outputId": "c189f40c-ae24-42d6-9a86-5f60d464b197"
      },
      "cell_type": "code",
      "source": [
        "df.describe(include='all')"
      ],
      "id": "8c7bb5349bea879a",
      "outputs": [
        {
          "data": {
            "text/plain": [
              "        Transaction_ID      User_ID    Crypto Transaction_Type        Amount  \\\n",
              "count     10000.000000  10000.00000     10000            10000  10000.000000   \n",
              "unique             NaN          NaN        10                5           NaN   \n",
              "top                NaN          NaN  Polkadot            Stake           NaN   \n",
              "freq               NaN          NaN      1077             2052           NaN   \n",
              "mean     547132.392100  55176.38050       NaN              NaN     50.120755   \n",
              "std      262163.276431  25823.90504       NaN              NaN     28.902577   \n",
              "min      100027.000000  10016.00000       NaN              NaN      0.024363   \n",
              "25%      318120.750000  32775.00000       NaN              NaN     24.889845   \n",
              "50%      547635.000000  55643.00000       NaN              NaN     49.887958   \n",
              "75%      775336.000000  77450.00000       NaN              NaN     75.319944   \n",
              "max      999919.000000  99986.00000       NaN              NaN     99.997361   \n",
              "\n",
              "        Price_Per_Unit   Total_Value  Transaction_Fee  Platform  Status  \\\n",
              "count     10000.000000  1.000000e+04     10000.000000     10000   10000   \n",
              "unique             NaN           NaN              NaN         7       3   \n",
              "top                NaN           NaN              NaN  Coinbase  Failed   \n",
              "freq               NaN           NaN              NaN      1515    3353   \n",
              "mean      29888.220522  1.506658e+06     37555.080850       NaN     NaN   \n",
              "std       17215.202926  1.327017e+06     43871.976036       NaN     NaN   \n",
              "min          10.270000  3.665000e+01         0.040000       NaN     NaN   \n",
              "25%       15240.167500  4.124107e+05      6007.977500       NaN     NaN   \n",
              "50%       29823.745000  1.124990e+06     21182.080000       NaN     NaN   \n",
              "75%       44728.790000  2.310646e+06     53563.732500       NaN     NaN   \n",
              "max       59995.760000  5.881193e+06    287527.830000       NaN     NaN   \n",
              "\n",
              "       Wallet_Type            Transaction_Date  \n",
              "count        10000                       10000  \n",
              "unique           5                         731  \n",
              "top     Hot Wallet  2024-10-29 09:51:58.222424  \n",
              "freq          2064                          27  \n",
              "mean           NaN                         NaN  \n",
              "std            NaN                         NaN  \n",
              "min            NaN                         NaN  \n",
              "25%            NaN                         NaN  \n",
              "50%            NaN                         NaN  \n",
              "75%            NaN                         NaN  \n",
              "max            NaN                         NaN  "
            ],
            "text/html": [
              "<div>\n",
              "<style scoped>\n",
              "    .dataframe tbody tr th:only-of-type {\n",
              "        vertical-align: middle;\n",
              "    }\n",
              "\n",
              "    .dataframe tbody tr th {\n",
              "        vertical-align: top;\n",
              "    }\n",
              "\n",
              "    .dataframe thead th {\n",
              "        text-align: right;\n",
              "    }\n",
              "</style>\n",
              "<table border=\"1\" class=\"dataframe\">\n",
              "  <thead>\n",
              "    <tr style=\"text-align: right;\">\n",
              "      <th></th>\n",
              "      <th>Transaction_ID</th>\n",
              "      <th>User_ID</th>\n",
              "      <th>Crypto</th>\n",
              "      <th>Transaction_Type</th>\n",
              "      <th>Amount</th>\n",
              "      <th>Price_Per_Unit</th>\n",
              "      <th>Total_Value</th>\n",
              "      <th>Transaction_Fee</th>\n",
              "      <th>Platform</th>\n",
              "      <th>Status</th>\n",
              "      <th>Wallet_Type</th>\n",
              "      <th>Transaction_Date</th>\n",
              "    </tr>\n",
              "  </thead>\n",
              "  <tbody>\n",
              "    <tr>\n",
              "      <th>count</th>\n",
              "      <td>10000.000000</td>\n",
              "      <td>10000.00000</td>\n",
              "      <td>10000</td>\n",
              "      <td>10000</td>\n",
              "      <td>10000.000000</td>\n",
              "      <td>10000.000000</td>\n",
              "      <td>1.000000e+04</td>\n",
              "      <td>10000.000000</td>\n",
              "      <td>10000</td>\n",
              "      <td>10000</td>\n",
              "      <td>10000</td>\n",
              "      <td>10000</td>\n",
              "    </tr>\n",
              "    <tr>\n",
              "      <th>unique</th>\n",
              "      <td>NaN</td>\n",
              "      <td>NaN</td>\n",
              "      <td>10</td>\n",
              "      <td>5</td>\n",
              "      <td>NaN</td>\n",
              "      <td>NaN</td>\n",
              "      <td>NaN</td>\n",
              "      <td>NaN</td>\n",
              "      <td>7</td>\n",
              "      <td>3</td>\n",
              "      <td>5</td>\n",
              "      <td>731</td>\n",
              "    </tr>\n",
              "    <tr>\n",
              "      <th>top</th>\n",
              "      <td>NaN</td>\n",
              "      <td>NaN</td>\n",
              "      <td>Polkadot</td>\n",
              "      <td>Stake</td>\n",
              "      <td>NaN</td>\n",
              "      <td>NaN</td>\n",
              "      <td>NaN</td>\n",
              "      <td>NaN</td>\n",
              "      <td>Coinbase</td>\n",
              "      <td>Failed</td>\n",
              "      <td>Hot Wallet</td>\n",
              "      <td>2024-10-29 09:51:58.222424</td>\n",
              "    </tr>\n",
              "    <tr>\n",
              "      <th>freq</th>\n",
              "      <td>NaN</td>\n",
              "      <td>NaN</td>\n",
              "      <td>1077</td>\n",
              "      <td>2052</td>\n",
              "      <td>NaN</td>\n",
              "      <td>NaN</td>\n",
              "      <td>NaN</td>\n",
              "      <td>NaN</td>\n",
              "      <td>1515</td>\n",
              "      <td>3353</td>\n",
              "      <td>2064</td>\n",
              "      <td>27</td>\n",
              "    </tr>\n",
              "    <tr>\n",
              "      <th>mean</th>\n",
              "      <td>547132.392100</td>\n",
              "      <td>55176.38050</td>\n",
              "      <td>NaN</td>\n",
              "      <td>NaN</td>\n",
              "      <td>50.120755</td>\n",
              "      <td>29888.220522</td>\n",
              "      <td>1.506658e+06</td>\n",
              "      <td>37555.080850</td>\n",
              "      <td>NaN</td>\n",
              "      <td>NaN</td>\n",
              "      <td>NaN</td>\n",
              "      <td>NaN</td>\n",
              "    </tr>\n",
              "    <tr>\n",
              "      <th>std</th>\n",
              "      <td>262163.276431</td>\n",
              "      <td>25823.90504</td>\n",
              "      <td>NaN</td>\n",
              "      <td>NaN</td>\n",
              "      <td>28.902577</td>\n",
              "      <td>17215.202926</td>\n",
              "      <td>1.327017e+06</td>\n",
              "      <td>43871.976036</td>\n",
              "      <td>NaN</td>\n",
              "      <td>NaN</td>\n",
              "      <td>NaN</td>\n",
              "      <td>NaN</td>\n",
              "    </tr>\n",
              "    <tr>\n",
              "      <th>min</th>\n",
              "      <td>100027.000000</td>\n",
              "      <td>10016.00000</td>\n",
              "      <td>NaN</td>\n",
              "      <td>NaN</td>\n",
              "      <td>0.024363</td>\n",
              "      <td>10.270000</td>\n",
              "      <td>3.665000e+01</td>\n",
              "      <td>0.040000</td>\n",
              "      <td>NaN</td>\n",
              "      <td>NaN</td>\n",
              "      <td>NaN</td>\n",
              "      <td>NaN</td>\n",
              "    </tr>\n",
              "    <tr>\n",
              "      <th>25%</th>\n",
              "      <td>318120.750000</td>\n",
              "      <td>32775.00000</td>\n",
              "      <td>NaN</td>\n",
              "      <td>NaN</td>\n",
              "      <td>24.889845</td>\n",
              "      <td>15240.167500</td>\n",
              "      <td>4.124107e+05</td>\n",
              "      <td>6007.977500</td>\n",
              "      <td>NaN</td>\n",
              "      <td>NaN</td>\n",
              "      <td>NaN</td>\n",
              "      <td>NaN</td>\n",
              "    </tr>\n",
              "    <tr>\n",
              "      <th>50%</th>\n",
              "      <td>547635.000000</td>\n",
              "      <td>55643.00000</td>\n",
              "      <td>NaN</td>\n",
              "      <td>NaN</td>\n",
              "      <td>49.887958</td>\n",
              "      <td>29823.745000</td>\n",
              "      <td>1.124990e+06</td>\n",
              "      <td>21182.080000</td>\n",
              "      <td>NaN</td>\n",
              "      <td>NaN</td>\n",
              "      <td>NaN</td>\n",
              "      <td>NaN</td>\n",
              "    </tr>\n",
              "    <tr>\n",
              "      <th>75%</th>\n",
              "      <td>775336.000000</td>\n",
              "      <td>77450.00000</td>\n",
              "      <td>NaN</td>\n",
              "      <td>NaN</td>\n",
              "      <td>75.319944</td>\n",
              "      <td>44728.790000</td>\n",
              "      <td>2.310646e+06</td>\n",
              "      <td>53563.732500</td>\n",
              "      <td>NaN</td>\n",
              "      <td>NaN</td>\n",
              "      <td>NaN</td>\n",
              "      <td>NaN</td>\n",
              "    </tr>\n",
              "    <tr>\n",
              "      <th>max</th>\n",
              "      <td>999919.000000</td>\n",
              "      <td>99986.00000</td>\n",
              "      <td>NaN</td>\n",
              "      <td>NaN</td>\n",
              "      <td>99.997361</td>\n",
              "      <td>59995.760000</td>\n",
              "      <td>5.881193e+06</td>\n",
              "      <td>287527.830000</td>\n",
              "      <td>NaN</td>\n",
              "      <td>NaN</td>\n",
              "      <td>NaN</td>\n",
              "      <td>NaN</td>\n",
              "    </tr>\n",
              "  </tbody>\n",
              "</table>\n",
              "</div>"
            ]
          },
          "execution_count": 7,
          "metadata": {},
          "output_type": "execute_result"
        }
      ],
      "execution_count": null
    },
    {
      "metadata": {
        "ExecuteTime": {
          "end_time": "2025-05-24T17:11:09.777711Z",
          "start_time": "2025-05-24T17:11:04.502169Z"
        },
        "id": "94efa0dd21d1f3f0",
        "outputId": "dd253ba6-5f90-43b4-9d02-4fbe345db366"
      },
      "cell_type": "code",
      "source": [
        "from ydata_profiling import ProfileReport\n",
        "\n",
        "profile = ProfileReport(df, title=\"Crypto Transactions Profiling Report\", explorative=True)\n",
        "profile.to_file(\"crypto_transactions_profile.html\")"
      ],
      "id": "94efa0dd21d1f3f0",
      "outputs": [
        {
          "name": "stderr",
          "output_type": "stream",
          "text": [
            "/Users/meetvaghasia/Desktop/TrustWallet_Meet_Vaghasia/trustLabs/lib/python3.10/site-packages/tqdm/auto.py:21: TqdmWarning: IProgress not found. Please update jupyter and ipywidgets. See https://ipywidgets.readthedocs.io/en/stable/user_install.html\n",
            "  from .autonotebook import tqdm as notebook_tqdm\n",
            "Summarize dataset: 100%|██████████| 57/57 [00:02<00:00, 26.71it/s, Completed]                               \n",
            "Generate report structure: 100%|██████████| 1/1 [00:01<00:00,  1.38s/it]\n",
            "Render HTML: 100%|██████████| 1/1 [00:00<00:00,  2.04it/s]\n",
            "Export report to file: 100%|██████████| 1/1 [00:00<00:00, 588.92it/s]\n"
          ]
        }
      ],
      "execution_count": null
    },
    {
      "metadata": {
        "ExecuteTime": {
          "end_time": "2025-05-24T17:11:31.304304Z",
          "start_time": "2025-05-24T17:11:31.267193Z"
        },
        "id": "2c4e96a37eeb006e",
        "outputId": "dd103b4a-5231-4c8a-9e2a-b209e0c7e6e1"
      },
      "cell_type": "code",
      "source": [
        "# Handle missing values\n",
        "df_clean = df.copy()\n",
        "for col in df_clean.columns:\n",
        "    if df_clean[col].dtype == 'object':\n",
        "        df_clean[col].fillna('Unknown', inplace=True)\n",
        "    else:\n",
        "        df_clean[col].fillna(df_clean[col].median(), inplace=True)\n",
        "\n",
        "# Drop duplicates\n",
        "df_clean.drop_duplicates(inplace=True)\n",
        "\n",
        "# Convert date columns (assume column is named 'date')\n",
        "if 'date' in df_clean.columns:\n",
        "    df_clean['date'] = pd.to_datetime(df_clean['date'], errors='coerce')\n",
        "\n",
        "# Save cleaned CSV for dashboards\n",
        "df_clean.to_csv('cleaned_crypto_transactions.csv', index=False)\n",
        "df_clean"
      ],
      "id": "2c4e96a37eeb006e",
      "outputs": [
        {
          "data": {
            "text/plain": [
              "      Transaction_ID  User_ID    Crypto Transaction_Type     Amount  \\\n",
              "0             434465    31394   Bitcoin         Withdraw  57.695145   \n",
              "1             905397    39627    Solana            Stake  27.708982   \n",
              "2             451293    11506   Cardano              Buy  80.368977   \n",
              "3             841249    84005       XRP            Stake  83.900483   \n",
              "4             762686    66706  Dogecoin            Stake  52.528368   \n",
              "...              ...      ...       ...              ...        ...   \n",
              "9995          186998    93233   Bitcoin            Stake  30.918047   \n",
              "9996          337144    44181   Cardano              Buy  80.090849   \n",
              "9997          946655    22496       BNB         Withdraw  19.005921   \n",
              "9998          153921    72835  Litecoin              Buy  11.872668   \n",
              "9999          760727    43815  Litecoin         Transfer  80.534637   \n",
              "\n",
              "      Price_Per_Unit  Total_Value  Transaction_Fee  Platform     Status  \\\n",
              "0           45248.78   2610634.92        114990.70    KuCoin  Completed   \n",
              "1           48307.43   1338549.71         34560.11   Binance     Failed   \n",
              "2           44428.82   3570698.81         38312.76       OKX    Pending   \n",
              "3            8755.31    734574.74          1396.89       FTX  Completed   \n",
              "4           58667.26   3081695.42         19087.58    Kraken    Pending   \n",
              "...              ...          ...              ...       ...        ...   \n",
              "9995        20067.21    620438.94          5603.47       FTX    Pending   \n",
              "9996        42488.69   3402955.25         71081.12    Kraken     Failed   \n",
              "9997        36513.00    693963.19         29738.11  Coinbase  Completed   \n",
              "9998        19748.07    234462.28         10107.57       OKX     Failed   \n",
              "9999         7400.97    596034.43         23196.39  Coinbase    Pending   \n",
              "\n",
              "          Wallet_Type            Transaction_Date  \n",
              "0              Trezor  2024-04-10 09:51:58.222424  \n",
              "1         Cold Wallet  2023-10-04 09:51:58.222424  \n",
              "2          Hot Wallet  2024-11-15 09:51:58.222424  \n",
              "3     Exchange Wallet  2024-02-11 09:51:58.222424  \n",
              "4     Exchange Wallet  2023-09-15 09:51:58.222424  \n",
              "...               ...                         ...  \n",
              "9995           Trezor  2023-02-28 09:51:58.222424  \n",
              "9996           Ledger  2024-08-28 09:51:58.222424  \n",
              "9997           Ledger  2023-04-06 09:51:58.222424  \n",
              "9998           Trezor  2023-11-01 09:51:58.222424  \n",
              "9999  Exchange Wallet  2024-10-10 09:51:58.222424  \n",
              "\n",
              "[10000 rows x 12 columns]"
            ],
            "text/html": [
              "<div>\n",
              "<style scoped>\n",
              "    .dataframe tbody tr th:only-of-type {\n",
              "        vertical-align: middle;\n",
              "    }\n",
              "\n",
              "    .dataframe tbody tr th {\n",
              "        vertical-align: top;\n",
              "    }\n",
              "\n",
              "    .dataframe thead th {\n",
              "        text-align: right;\n",
              "    }\n",
              "</style>\n",
              "<table border=\"1\" class=\"dataframe\">\n",
              "  <thead>\n",
              "    <tr style=\"text-align: right;\">\n",
              "      <th></th>\n",
              "      <th>Transaction_ID</th>\n",
              "      <th>User_ID</th>\n",
              "      <th>Crypto</th>\n",
              "      <th>Transaction_Type</th>\n",
              "      <th>Amount</th>\n",
              "      <th>Price_Per_Unit</th>\n",
              "      <th>Total_Value</th>\n",
              "      <th>Transaction_Fee</th>\n",
              "      <th>Platform</th>\n",
              "      <th>Status</th>\n",
              "      <th>Wallet_Type</th>\n",
              "      <th>Transaction_Date</th>\n",
              "    </tr>\n",
              "  </thead>\n",
              "  <tbody>\n",
              "    <tr>\n",
              "      <th>0</th>\n",
              "      <td>434465</td>\n",
              "      <td>31394</td>\n",
              "      <td>Bitcoin</td>\n",
              "      <td>Withdraw</td>\n",
              "      <td>57.695145</td>\n",
              "      <td>45248.78</td>\n",
              "      <td>2610634.92</td>\n",
              "      <td>114990.70</td>\n",
              "      <td>KuCoin</td>\n",
              "      <td>Completed</td>\n",
              "      <td>Trezor</td>\n",
              "      <td>2024-04-10 09:51:58.222424</td>\n",
              "    </tr>\n",
              "    <tr>\n",
              "      <th>1</th>\n",
              "      <td>905397</td>\n",
              "      <td>39627</td>\n",
              "      <td>Solana</td>\n",
              "      <td>Stake</td>\n",
              "      <td>27.708982</td>\n",
              "      <td>48307.43</td>\n",
              "      <td>1338549.71</td>\n",
              "      <td>34560.11</td>\n",
              "      <td>Binance</td>\n",
              "      <td>Failed</td>\n",
              "      <td>Cold Wallet</td>\n",
              "      <td>2023-10-04 09:51:58.222424</td>\n",
              "    </tr>\n",
              "    <tr>\n",
              "      <th>2</th>\n",
              "      <td>451293</td>\n",
              "      <td>11506</td>\n",
              "      <td>Cardano</td>\n",
              "      <td>Buy</td>\n",
              "      <td>80.368977</td>\n",
              "      <td>44428.82</td>\n",
              "      <td>3570698.81</td>\n",
              "      <td>38312.76</td>\n",
              "      <td>OKX</td>\n",
              "      <td>Pending</td>\n",
              "      <td>Hot Wallet</td>\n",
              "      <td>2024-11-15 09:51:58.222424</td>\n",
              "    </tr>\n",
              "    <tr>\n",
              "      <th>3</th>\n",
              "      <td>841249</td>\n",
              "      <td>84005</td>\n",
              "      <td>XRP</td>\n",
              "      <td>Stake</td>\n",
              "      <td>83.900483</td>\n",
              "      <td>8755.31</td>\n",
              "      <td>734574.74</td>\n",
              "      <td>1396.89</td>\n",
              "      <td>FTX</td>\n",
              "      <td>Completed</td>\n",
              "      <td>Exchange Wallet</td>\n",
              "      <td>2024-02-11 09:51:58.222424</td>\n",
              "    </tr>\n",
              "    <tr>\n",
              "      <th>4</th>\n",
              "      <td>762686</td>\n",
              "      <td>66706</td>\n",
              "      <td>Dogecoin</td>\n",
              "      <td>Stake</td>\n",
              "      <td>52.528368</td>\n",
              "      <td>58667.26</td>\n",
              "      <td>3081695.42</td>\n",
              "      <td>19087.58</td>\n",
              "      <td>Kraken</td>\n",
              "      <td>Pending</td>\n",
              "      <td>Exchange Wallet</td>\n",
              "      <td>2023-09-15 09:51:58.222424</td>\n",
              "    </tr>\n",
              "    <tr>\n",
              "      <th>...</th>\n",
              "      <td>...</td>\n",
              "      <td>...</td>\n",
              "      <td>...</td>\n",
              "      <td>...</td>\n",
              "      <td>...</td>\n",
              "      <td>...</td>\n",
              "      <td>...</td>\n",
              "      <td>...</td>\n",
              "      <td>...</td>\n",
              "      <td>...</td>\n",
              "      <td>...</td>\n",
              "      <td>...</td>\n",
              "    </tr>\n",
              "    <tr>\n",
              "      <th>9995</th>\n",
              "      <td>186998</td>\n",
              "      <td>93233</td>\n",
              "      <td>Bitcoin</td>\n",
              "      <td>Stake</td>\n",
              "      <td>30.918047</td>\n",
              "      <td>20067.21</td>\n",
              "      <td>620438.94</td>\n",
              "      <td>5603.47</td>\n",
              "      <td>FTX</td>\n",
              "      <td>Pending</td>\n",
              "      <td>Trezor</td>\n",
              "      <td>2023-02-28 09:51:58.222424</td>\n",
              "    </tr>\n",
              "    <tr>\n",
              "      <th>9996</th>\n",
              "      <td>337144</td>\n",
              "      <td>44181</td>\n",
              "      <td>Cardano</td>\n",
              "      <td>Buy</td>\n",
              "      <td>80.090849</td>\n",
              "      <td>42488.69</td>\n",
              "      <td>3402955.25</td>\n",
              "      <td>71081.12</td>\n",
              "      <td>Kraken</td>\n",
              "      <td>Failed</td>\n",
              "      <td>Ledger</td>\n",
              "      <td>2024-08-28 09:51:58.222424</td>\n",
              "    </tr>\n",
              "    <tr>\n",
              "      <th>9997</th>\n",
              "      <td>946655</td>\n",
              "      <td>22496</td>\n",
              "      <td>BNB</td>\n",
              "      <td>Withdraw</td>\n",
              "      <td>19.005921</td>\n",
              "      <td>36513.00</td>\n",
              "      <td>693963.19</td>\n",
              "      <td>29738.11</td>\n",
              "      <td>Coinbase</td>\n",
              "      <td>Completed</td>\n",
              "      <td>Ledger</td>\n",
              "      <td>2023-04-06 09:51:58.222424</td>\n",
              "    </tr>\n",
              "    <tr>\n",
              "      <th>9998</th>\n",
              "      <td>153921</td>\n",
              "      <td>72835</td>\n",
              "      <td>Litecoin</td>\n",
              "      <td>Buy</td>\n",
              "      <td>11.872668</td>\n",
              "      <td>19748.07</td>\n",
              "      <td>234462.28</td>\n",
              "      <td>10107.57</td>\n",
              "      <td>OKX</td>\n",
              "      <td>Failed</td>\n",
              "      <td>Trezor</td>\n",
              "      <td>2023-11-01 09:51:58.222424</td>\n",
              "    </tr>\n",
              "    <tr>\n",
              "      <th>9999</th>\n",
              "      <td>760727</td>\n",
              "      <td>43815</td>\n",
              "      <td>Litecoin</td>\n",
              "      <td>Transfer</td>\n",
              "      <td>80.534637</td>\n",
              "      <td>7400.97</td>\n",
              "      <td>596034.43</td>\n",
              "      <td>23196.39</td>\n",
              "      <td>Coinbase</td>\n",
              "      <td>Pending</td>\n",
              "      <td>Exchange Wallet</td>\n",
              "      <td>2024-10-10 09:51:58.222424</td>\n",
              "    </tr>\n",
              "  </tbody>\n",
              "</table>\n",
              "<p>10000 rows × 12 columns</p>\n",
              "</div>"
            ]
          },
          "execution_count": 9,
          "metadata": {},
          "output_type": "execute_result"
        }
      ],
      "execution_count": null
    },
    {
      "metadata": {
        "id": "c120c6e09e78e1e8"
      },
      "cell_type": "markdown",
      "source": [
        "# Summary Stats & Trends"
      ],
      "id": "c120c6e09e78e1e8"
    },
    {
      "metadata": {
        "ExecuteTime": {
          "end_time": "2025-05-24T17:12:05.000204Z",
          "start_time": "2025-05-24T17:12:04.997820Z"
        },
        "id": "164e16becca5c99",
        "outputId": "a91dc36b-3bf3-44c1-d4ce-09abac0e795c"
      },
      "cell_type": "code",
      "source": [
        "# Summary statistics\n",
        "summary = {\n",
        "    'total_transactions': len(df_clean),\n",
        "    'unique_assets': df_clean['asset'].nunique() if 'asset' in df_clean.columns else None,\n",
        "    'unique_wallets': df_clean['wallet'].nunique() if 'wallet' in df_clean.columns else None,\n",
        "    'total_volume': df_clean['amount'].sum() if 'amount' in df_clean.columns else None,\n",
        "    'median_txn_size': df_clean['amount'].median() if 'amount' in df_clean.columns else None,\n",
        "}\n",
        "\n",
        "print(summary)"
      ],
      "id": "164e16becca5c99",
      "outputs": [
        {
          "name": "stdout",
          "output_type": "stream",
          "text": [
            "{'total_transactions': 10000, 'unique_assets': None, 'unique_wallets': None, 'total_volume': None, 'median_txn_size': None}\n"
          ]
        }
      ],
      "execution_count": null
    },
    {
      "metadata": {
        "id": "e3f0f4b9dbd407f7"
      },
      "cell_type": "markdown",
      "source": [
        "# Transaction Volume Over Time (Line Chart)"
      ],
      "id": "e3f0f4b9dbd407f7"
    },
    {
      "metadata": {
        "ExecuteTime": {
          "end_time": "2025-05-24T17:12:36.980351Z",
          "start_time": "2025-05-24T17:12:36.830896Z"
        },
        "id": "8f0287d792cf04fd",
        "outputId": "6a99cc49-603a-4aa0-cec3-3add1ec59ec3"
      },
      "cell_type": "code",
      "source": [
        "import pandas as pd\n",
        "import plotly.express as px\n",
        "import plotly.graph_objects as go\n",
        "\n",
        "# Load data\n",
        "df = pd.read_csv('cleaned_crypto_transactions.csv')\n",
        "\n",
        "# Convert date column\n",
        "df['Transaction_Date'] = pd.to_datetime(df['Transaction_Date'])\n",
        "\n",
        "# --- PLOT 1: Transaction Volume Over Time (USD) ---\n",
        "daily = df.groupby(df['Transaction_Date'].dt.date)['Total_Value'].sum().reset_index()\n",
        "fig_line = px.line(\n",
        "    daily, x='Transaction_Date', y='Total_Value',\n",
        "    title='Transaction Volume (USD) Over Time',\n",
        "    labels={'Total_Value': 'Total Volume (USD)', 'Transaction_Date': 'Date'}\n",
        ")\n",
        "fig_line.show()"
      ],
      "id": "8f0287d792cf04fd",
      "outputs": [
        {
          "data": {
            "application/vnd.plotly.v1+json": {
              "data": [
                {
                  "hovertemplate": "Date=%{x}<br>Total Volume (USD)=%{y}<extra></extra>",
                  "legendgroup": "",
                  "line": {
                    "color": "#636efa",
                    "dash": "solid"
                  },
                  "marker": {
                    "symbol": "circle"
                  },
                  "mode": "lines",
                  "name": "",
                  "orientation": "v",
                  "showlegend": false,
                  "x": [
                    "2023-02-28",
                    "2023-03-01",
                    "2023-03-02",
                    "2023-03-03",
                    "2023-03-04",
                    "2023-03-05",
                    "2023-03-06",
                    "2023-03-07",
                    "2023-03-08",
                    "2023-03-09",
                    "2023-03-10",
                    "2023-03-11",
                    "2023-03-12",
                    "2023-03-13",
                    "2023-03-14",
                    "2023-03-15",
                    "2023-03-16",
                    "2023-03-17",
                    "2023-03-18",
                    "2023-03-19",
                    "2023-03-20",
                    "2023-03-21",
                    "2023-03-22",
                    "2023-03-23",
                    "2023-03-24",
                    "2023-03-25",
                    "2023-03-26",
                    "2023-03-27",
                    "2023-03-28",
                    "2023-03-29",
                    "2023-03-30",
                    "2023-03-31",
                    "2023-04-01",
                    "2023-04-02",
                    "2023-04-03",
                    "2023-04-04",
                    "2023-04-05",
                    "2023-04-06",
                    "2023-04-07",
                    "2023-04-08",
                    "2023-04-09",
                    "2023-04-10",
                    "2023-04-11",
                    "2023-04-12",
                    "2023-04-13",
                    "2023-04-14",
                    "2023-04-15",
                    "2023-04-16",
                    "2023-04-17",
                    "2023-04-18",
                    "2023-04-19",
                    "2023-04-20",
                    "2023-04-21",
                    "2023-04-22",
                    "2023-04-23",
                    "2023-04-24",
                    "2023-04-25",
                    "2023-04-26",
                    "2023-04-27",
                    "2023-04-28",
                    "2023-04-29",
                    "2023-04-30",
                    "2023-05-01",
                    "2023-05-02",
                    "2023-05-03",
                    "2023-05-04",
                    "2023-05-05",
                    "2023-05-06",
                    "2023-05-07",
                    "2023-05-08",
                    "2023-05-09",
                    "2023-05-10",
                    "2023-05-11",
                    "2023-05-12",
                    "2023-05-13",
                    "2023-05-14",
                    "2023-05-15",
                    "2023-05-16",
                    "2023-05-17",
                    "2023-05-18",
                    "2023-05-19",
                    "2023-05-20",
                    "2023-05-21",
                    "2023-05-22",
                    "2023-05-23",
                    "2023-05-24",
                    "2023-05-25",
                    "2023-05-26",
                    "2023-05-27",
                    "2023-05-28",
                    "2023-05-29",
                    "2023-05-30",
                    "2023-05-31",
                    "2023-06-01",
                    "2023-06-02",
                    "2023-06-03",
                    "2023-06-04",
                    "2023-06-05",
                    "2023-06-06",
                    "2023-06-07",
                    "2023-06-08",
                    "2023-06-09",
                    "2023-06-10",
                    "2023-06-11",
                    "2023-06-12",
                    "2023-06-13",
                    "2023-06-14",
                    "2023-06-15",
                    "2023-06-16",
                    "2023-06-17",
                    "2023-06-18",
                    "2023-06-19",
                    "2023-06-20",
                    "2023-06-21",
                    "2023-06-22",
                    "2023-06-23",
                    "2023-06-24",
                    "2023-06-25",
                    "2023-06-26",
                    "2023-06-27",
                    "2023-06-28",
                    "2023-06-29",
                    "2023-06-30",
                    "2023-07-01",
                    "2023-07-02",
                    "2023-07-03",
                    "2023-07-04",
                    "2023-07-05",
                    "2023-07-06",
                    "2023-07-07",
                    "2023-07-08",
                    "2023-07-09",
                    "2023-07-10",
                    "2023-07-11",
                    "2023-07-12",
                    "2023-07-13",
                    "2023-07-14",
                    "2023-07-15",
                    "2023-07-16",
                    "2023-07-17",
                    "2023-07-18",
                    "2023-07-19",
                    "2023-07-20",
                    "2023-07-21",
                    "2023-07-22",
                    "2023-07-23",
                    "2023-07-24",
                    "2023-07-25",
                    "2023-07-26",
                    "2023-07-27",
                    "2023-07-28",
                    "2023-07-29",
                    "2023-07-30",
                    "2023-07-31",
                    "2023-08-01",
                    "2023-08-02",
                    "2023-08-03",
                    "2023-08-04",
                    "2023-08-05",
                    "2023-08-06",
                    "2023-08-07",
                    "2023-08-08",
                    "2023-08-09",
                    "2023-08-10",
                    "2023-08-11",
                    "2023-08-12",
                    "2023-08-13",
                    "2023-08-14",
                    "2023-08-15",
                    "2023-08-16",
                    "2023-08-17",
                    "2023-08-18",
                    "2023-08-19",
                    "2023-08-20",
                    "2023-08-21",
                    "2023-08-22",
                    "2023-08-23",
                    "2023-08-24",
                    "2023-08-25",
                    "2023-08-26",
                    "2023-08-27",
                    "2023-08-28",
                    "2023-08-29",
                    "2023-08-30",
                    "2023-08-31",
                    "2023-09-01",
                    "2023-09-02",
                    "2023-09-03",
                    "2023-09-04",
                    "2023-09-05",
                    "2023-09-06",
                    "2023-09-07",
                    "2023-09-08",
                    "2023-09-09",
                    "2023-09-10",
                    "2023-09-11",
                    "2023-09-12",
                    "2023-09-13",
                    "2023-09-14",
                    "2023-09-15",
                    "2023-09-16",
                    "2023-09-17",
                    "2023-09-18",
                    "2023-09-19",
                    "2023-09-20",
                    "2023-09-21",
                    "2023-09-22",
                    "2023-09-23",
                    "2023-09-24",
                    "2023-09-25",
                    "2023-09-26",
                    "2023-09-27",
                    "2023-09-28",
                    "2023-09-29",
                    "2023-09-30",
                    "2023-10-01",
                    "2023-10-02",
                    "2023-10-03",
                    "2023-10-04",
                    "2023-10-05",
                    "2023-10-06",
                    "2023-10-07",
                    "2023-10-08",
                    "2023-10-09",
                    "2023-10-10",
                    "2023-10-11",
                    "2023-10-12",
                    "2023-10-13",
                    "2023-10-14",
                    "2023-10-15",
                    "2023-10-16",
                    "2023-10-17",
                    "2023-10-18",
                    "2023-10-19",
                    "2023-10-20",
                    "2023-10-21",
                    "2023-10-22",
                    "2023-10-23",
                    "2023-10-24",
                    "2023-10-25",
                    "2023-10-26",
                    "2023-10-27",
                    "2023-10-28",
                    "2023-10-29",
                    "2023-10-30",
                    "2023-10-31",
                    "2023-11-01",
                    "2023-11-02",
                    "2023-11-03",
                    "2023-11-04",
                    "2023-11-05",
                    "2023-11-06",
                    "2023-11-07",
                    "2023-11-08",
                    "2023-11-09",
                    "2023-11-10",
                    "2023-11-11",
                    "2023-11-12",
                    "2023-11-13",
                    "2023-11-14",
                    "2023-11-15",
                    "2023-11-16",
                    "2023-11-17",
                    "2023-11-18",
                    "2023-11-19",
                    "2023-11-20",
                    "2023-11-21",
                    "2023-11-22",
                    "2023-11-23",
                    "2023-11-24",
                    "2023-11-25",
                    "2023-11-26",
                    "2023-11-27",
                    "2023-11-28",
                    "2023-11-29",
                    "2023-11-30",
                    "2023-12-01",
                    "2023-12-02",
                    "2023-12-03",
                    "2023-12-04",
                    "2023-12-05",
                    "2023-12-06",
                    "2023-12-07",
                    "2023-12-08",
                    "2023-12-09",
                    "2023-12-10",
                    "2023-12-11",
                    "2023-12-12",
                    "2023-12-13",
                    "2023-12-14",
                    "2023-12-15",
                    "2023-12-16",
                    "2023-12-17",
                    "2023-12-18",
                    "2023-12-19",
                    "2023-12-20",
                    "2023-12-21",
                    "2023-12-22",
                    "2023-12-23",
                    "2023-12-24",
                    "2023-12-25",
                    "2023-12-26",
                    "2023-12-27",
                    "2023-12-28",
                    "2023-12-29",
                    "2023-12-30",
                    "2023-12-31",
                    "2024-01-01",
                    "2024-01-02",
                    "2024-01-03",
                    "2024-01-04",
                    "2024-01-05",
                    "2024-01-06",
                    "2024-01-07",
                    "2024-01-08",
                    "2024-01-09",
                    "2024-01-10",
                    "2024-01-11",
                    "2024-01-12",
                    "2024-01-13",
                    "2024-01-14",
                    "2024-01-15",
                    "2024-01-16",
                    "2024-01-17",
                    "2024-01-18",
                    "2024-01-19",
                    "2024-01-20",
                    "2024-01-21",
                    "2024-01-22",
                    "2024-01-23",
                    "2024-01-24",
                    "2024-01-25",
                    "2024-01-26",
                    "2024-01-27",
                    "2024-01-28",
                    "2024-01-29",
                    "2024-01-30",
                    "2024-01-31",
                    "2024-02-01",
                    "2024-02-02",
                    "2024-02-03",
                    "2024-02-04",
                    "2024-02-05",
                    "2024-02-06",
                    "2024-02-07",
                    "2024-02-08",
                    "2024-02-09",
                    "2024-02-10",
                    "2024-02-11",
                    "2024-02-12",
                    "2024-02-13",
                    "2024-02-14",
                    "2024-02-15",
                    "2024-02-16",
                    "2024-02-17",
                    "2024-02-18",
                    "2024-02-19",
                    "2024-02-20",
                    "2024-02-21",
                    "2024-02-22",
                    "2024-02-23",
                    "2024-02-24",
                    "2024-02-25",
                    "2024-02-26",
                    "2024-02-27",
                    "2024-02-28",
                    "2024-02-29",
                    "2024-03-01",
                    "2024-03-02",
                    "2024-03-03",
                    "2024-03-04",
                    "2024-03-05",
                    "2024-03-06",
                    "2024-03-07",
                    "2024-03-08",
                    "2024-03-09",
                    "2024-03-10",
                    "2024-03-11",
                    "2024-03-12",
                    "2024-03-13",
                    "2024-03-14",
                    "2024-03-15",
                    "2024-03-16",
                    "2024-03-17",
                    "2024-03-18",
                    "2024-03-19",
                    "2024-03-20",
                    "2024-03-21",
                    "2024-03-22",
                    "2024-03-23",
                    "2024-03-24",
                    "2024-03-25",
                    "2024-03-26",
                    "2024-03-27",
                    "2024-03-28",
                    "2024-03-29",
                    "2024-03-30",
                    "2024-03-31",
                    "2024-04-01",
                    "2024-04-02",
                    "2024-04-03",
                    "2024-04-04",
                    "2024-04-05",
                    "2024-04-06",
                    "2024-04-07",
                    "2024-04-08",
                    "2024-04-09",
                    "2024-04-10",
                    "2024-04-11",
                    "2024-04-12",
                    "2024-04-13",
                    "2024-04-14",
                    "2024-04-15",
                    "2024-04-16",
                    "2024-04-17",
                    "2024-04-18",
                    "2024-04-19",
                    "2024-04-20",
                    "2024-04-21",
                    "2024-04-22",
                    "2024-04-23",
                    "2024-04-24",
                    "2024-04-25",
                    "2024-04-26",
                    "2024-04-27",
                    "2024-04-28",
                    "2024-04-29",
                    "2024-04-30",
                    "2024-05-01",
                    "2024-05-02",
                    "2024-05-03",
                    "2024-05-04",
                    "2024-05-05",
                    "2024-05-06",
                    "2024-05-07",
                    "2024-05-08",
                    "2024-05-09",
                    "2024-05-10",
                    "2024-05-11",
                    "2024-05-12",
                    "2024-05-13",
                    "2024-05-14",
                    "2024-05-15",
                    "2024-05-16",
                    "2024-05-17",
                    "2024-05-18",
                    "2024-05-19",
                    "2024-05-20",
                    "2024-05-21",
                    "2024-05-22",
                    "2024-05-23",
                    "2024-05-24",
                    "2024-05-25",
                    "2024-05-26",
                    "2024-05-27",
                    "2024-05-28",
                    "2024-05-29",
                    "2024-05-30",
                    "2024-05-31",
                    "2024-06-01",
                    "2024-06-02",
                    "2024-06-03",
                    "2024-06-04",
                    "2024-06-05",
                    "2024-06-06",
                    "2024-06-07",
                    "2024-06-08",
                    "2024-06-09",
                    "2024-06-10",
                    "2024-06-11",
                    "2024-06-12",
                    "2024-06-13",
                    "2024-06-14",
                    "2024-06-15",
                    "2024-06-16",
                    "2024-06-17",
                    "2024-06-18",
                    "2024-06-19",
                    "2024-06-20",
                    "2024-06-21",
                    "2024-06-22",
                    "2024-06-23",
                    "2024-06-24",
                    "2024-06-25",
                    "2024-06-26",
                    "2024-06-27",
                    "2024-06-28",
                    "2024-06-29",
                    "2024-06-30",
                    "2024-07-01",
                    "2024-07-02",
                    "2024-07-03",
                    "2024-07-04",
                    "2024-07-05",
                    "2024-07-06",
                    "2024-07-07",
                    "2024-07-08",
                    "2024-07-09",
                    "2024-07-10",
                    "2024-07-11",
                    "2024-07-12",
                    "2024-07-13",
                    "2024-07-14",
                    "2024-07-15",
                    "2024-07-16",
                    "2024-07-17",
                    "2024-07-18",
                    "2024-07-19",
                    "2024-07-20",
                    "2024-07-21",
                    "2024-07-22",
                    "2024-07-23",
                    "2024-07-24",
                    "2024-07-25",
                    "2024-07-26",
                    "2024-07-27",
                    "2024-07-28",
                    "2024-07-29",
                    "2024-07-30",
                    "2024-07-31",
                    "2024-08-01",
                    "2024-08-02",
                    "2024-08-03",
                    "2024-08-04",
                    "2024-08-05",
                    "2024-08-06",
                    "2024-08-07",
                    "2024-08-08",
                    "2024-08-09",
                    "2024-08-10",
                    "2024-08-11",
                    "2024-08-12",
                    "2024-08-13",
                    "2024-08-14",
                    "2024-08-15",
                    "2024-08-16",
                    "2024-08-17",
                    "2024-08-18",
                    "2024-08-19",
                    "2024-08-20",
                    "2024-08-21",
                    "2024-08-22",
                    "2024-08-23",
                    "2024-08-24",
                    "2024-08-25",
                    "2024-08-26",
                    "2024-08-27",
                    "2024-08-28",
                    "2024-08-29",
                    "2024-08-30",
                    "2024-08-31",
                    "2024-09-01",
                    "2024-09-02",
                    "2024-09-03",
                    "2024-09-04",
                    "2024-09-05",
                    "2024-09-06",
                    "2024-09-07",
                    "2024-09-08",
                    "2024-09-09",
                    "2024-09-10",
                    "2024-09-11",
                    "2024-09-12",
                    "2024-09-13",
                    "2024-09-14",
                    "2024-09-15",
                    "2024-09-16",
                    "2024-09-17",
                    "2024-09-18",
                    "2024-09-19",
                    "2024-09-20",
                    "2024-09-21",
                    "2024-09-22",
                    "2024-09-23",
                    "2024-09-24",
                    "2024-09-25",
                    "2024-09-26",
                    "2024-09-27",
                    "2024-09-28",
                    "2024-09-29",
                    "2024-09-30",
                    "2024-10-01",
                    "2024-10-02",
                    "2024-10-03",
                    "2024-10-04",
                    "2024-10-05",
                    "2024-10-06",
                    "2024-10-07",
                    "2024-10-08",
                    "2024-10-09",
                    "2024-10-10",
                    "2024-10-11",
                    "2024-10-12",
                    "2024-10-13",
                    "2024-10-14",
                    "2024-10-15",
                    "2024-10-16",
                    "2024-10-17",
                    "2024-10-18",
                    "2024-10-19",
                    "2024-10-20",
                    "2024-10-21",
                    "2024-10-22",
                    "2024-10-23",
                    "2024-10-24",
                    "2024-10-25",
                    "2024-10-26",
                    "2024-10-27",
                    "2024-10-28",
                    "2024-10-29",
                    "2024-10-30",
                    "2024-10-31",
                    "2024-11-01",
                    "2024-11-02",
                    "2024-11-03",
                    "2024-11-04",
                    "2024-11-05",
                    "2024-11-06",
                    "2024-11-07",
                    "2024-11-08",
                    "2024-11-09",
                    "2024-11-10",
                    "2024-11-11",
                    "2024-11-12",
                    "2024-11-13",
                    "2024-11-14",
                    "2024-11-15",
                    "2024-11-16",
                    "2024-11-17",
                    "2024-11-18",
                    "2024-11-19",
                    "2024-11-20",
                    "2024-11-21",
                    "2024-11-22",
                    "2024-11-23",
                    "2024-11-24",
                    "2024-11-25",
                    "2024-11-26",
                    "2024-11-27",
                    "2024-11-28",
                    "2024-11-29",
                    "2024-11-30",
                    "2024-12-01",
                    "2024-12-02",
                    "2024-12-03",
                    "2024-12-04",
                    "2024-12-05",
                    "2024-12-06",
                    "2024-12-07",
                    "2024-12-08",
                    "2024-12-09",
                    "2024-12-10",
                    "2024-12-11",
                    "2024-12-12",
                    "2024-12-13",
                    "2024-12-14",
                    "2024-12-15",
                    "2024-12-16",
                    "2024-12-17",
                    "2024-12-18",
                    "2024-12-19",
                    "2024-12-20",
                    "2024-12-21",
                    "2024-12-22",
                    "2024-12-23",
                    "2024-12-24",
                    "2024-12-25",
                    "2024-12-26",
                    "2024-12-27",
                    "2024-12-28",
                    "2024-12-29",
                    "2024-12-30",
                    "2024-12-31",
                    "2025-01-01",
                    "2025-01-02",
                    "2025-01-03",
                    "2025-01-04",
                    "2025-01-05",
                    "2025-01-06",
                    "2025-01-07",
                    "2025-01-08",
                    "2025-01-09",
                    "2025-01-10",
                    "2025-01-11",
                    "2025-01-12",
                    "2025-01-13",
                    "2025-01-14",
                    "2025-01-15",
                    "2025-01-16",
                    "2025-01-17",
                    "2025-01-18",
                    "2025-01-19",
                    "2025-01-20",
                    "2025-01-21",
                    "2025-01-22",
                    "2025-01-23",
                    "2025-01-24",
                    "2025-01-25",
                    "2025-01-26",
                    "2025-01-27",
                    "2025-01-28",
                    "2025-01-29",
                    "2025-01-30",
                    "2025-01-31",
                    "2025-02-01",
                    "2025-02-02",
                    "2025-02-03",
                    "2025-02-04",
                    "2025-02-05",
                    "2025-02-06",
                    "2025-02-07",
                    "2025-02-08",
                    "2025-02-09",
                    "2025-02-10",
                    "2025-02-11",
                    "2025-02-12",
                    "2025-02-13",
                    "2025-02-14",
                    "2025-02-15",
                    "2025-02-16",
                    "2025-02-17",
                    "2025-02-18",
                    "2025-02-19",
                    "2025-02-20",
                    "2025-02-21",
                    "2025-02-22",
                    "2025-02-23",
                    "2025-02-24",
                    "2025-02-25",
                    "2025-02-26",
                    "2025-02-27"
                  ],
                  "xaxis": "x",
                  "y": {
                    "dtype": "f8",
                    "bdata": "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"
                  },
                  "yaxis": "y",
                  "type": "scatter"
                }
              ],
              "layout": {
                "template": {
                  "data": {
                    "histogram2dcontour": [
                      {
                        "type": "histogram2dcontour",
                        "colorbar": {
                          "outlinewidth": 0,
                          "ticks": ""
                        },
                        "colorscale": [
                          [
                            0,
                            "#0d0887"
                          ],
                          [
                            0.1111111111111111,
                            "#46039f"
                          ],
                          [
                            0.2222222222222222,
                            "#7201a8"
                          ],
                          [
                            0.3333333333333333,
                            "#9c179e"
                          ],
                          [
                            0.4444444444444444,
                            "#bd3786"
                          ],
                          [
                            0.5555555555555556,
                            "#d8576b"
                          ],
                          [
                            0.6666666666666666,
                            "#ed7953"
                          ],
                          [
                            0.7777777777777778,
                            "#fb9f3a"
                          ],
                          [
                            0.8888888888888888,
                            "#fdca26"
                          ],
                          [
                            1,
                            "#f0f921"
                          ]
                        ]
                      }
                    ],
                    "choropleth": [
                      {
                        "type": "choropleth",
                        "colorbar": {
                          "outlinewidth": 0,
                          "ticks": ""
                        }
                      }
                    ],
                    "histogram2d": [
                      {
                        "type": "histogram2d",
                        "colorbar": {
                          "outlinewidth": 0,
                          "ticks": ""
                        },
                        "colorscale": [
                          [
                            0,
                            "#0d0887"
                          ],
                          [
                            0.1111111111111111,
                            "#46039f"
                          ],
                          [
                            0.2222222222222222,
                            "#7201a8"
                          ],
                          [
                            0.3333333333333333,
                            "#9c179e"
                          ],
                          [
                            0.4444444444444444,
                            "#bd3786"
                          ],
                          [
                            0.5555555555555556,
                            "#d8576b"
                          ],
                          [
                            0.6666666666666666,
                            "#ed7953"
                          ],
                          [
                            0.7777777777777778,
                            "#fb9f3a"
                          ],
                          [
                            0.8888888888888888,
                            "#fdca26"
                          ],
                          [
                            1,
                            "#f0f921"
                          ]
                        ]
                      }
                    ],
                    "heatmap": [
                      {
                        "type": "heatmap",
                        "colorbar": {
                          "outlinewidth": 0,
                          "ticks": ""
                        },
                        "colorscale": [
                          [
                            0,
                            "#0d0887"
                          ],
                          [
                            0.1111111111111111,
                            "#46039f"
                          ],
                          [
                            0.2222222222222222,
                            "#7201a8"
                          ],
                          [
                            0.3333333333333333,
                            "#9c179e"
                          ],
                          [
                            0.4444444444444444,
                            "#bd3786"
                          ],
                          [
                            0.5555555555555556,
                            "#d8576b"
                          ],
                          [
                            0.6666666666666666,
                            "#ed7953"
                          ],
                          [
                            0.7777777777777778,
                            "#fb9f3a"
                          ],
                          [
                            0.8888888888888888,
                            "#fdca26"
                          ],
                          [
                            1,
                            "#f0f921"
                          ]
                        ]
                      }
                    ],
                    "contourcarpet": [
                      {
                        "type": "contourcarpet",
                        "colorbar": {
                          "outlinewidth": 0,
                          "ticks": ""
                        }
                      }
                    ],
                    "contour": [
                      {
                        "type": "contour",
                        "colorbar": {
                          "outlinewidth": 0,
                          "ticks": ""
                        },
                        "colorscale": [
                          [
                            0,
                            "#0d0887"
                          ],
                          [
                            0.1111111111111111,
                            "#46039f"
                          ],
                          [
                            0.2222222222222222,
                            "#7201a8"
                          ],
                          [
                            0.3333333333333333,
                            "#9c179e"
                          ],
                          [
                            0.4444444444444444,
                            "#bd3786"
                          ],
                          [
                            0.5555555555555556,
                            "#d8576b"
                          ],
                          [
                            0.6666666666666666,
                            "#ed7953"
                          ],
                          [
                            0.7777777777777778,
                            "#fb9f3a"
                          ],
                          [
                            0.8888888888888888,
                            "#fdca26"
                          ],
                          [
                            1,
                            "#f0f921"
                          ]
                        ]
                      }
                    ],
                    "surface": [
                      {
                        "type": "surface",
                        "colorbar": {
                          "outlinewidth": 0,
                          "ticks": ""
                        },
                        "colorscale": [
                          [
                            0,
                            "#0d0887"
                          ],
                          [
                            0.1111111111111111,
                            "#46039f"
                          ],
                          [
                            0.2222222222222222,
                            "#7201a8"
                          ],
                          [
                            0.3333333333333333,
                            "#9c179e"
                          ],
                          [
                            0.4444444444444444,
                            "#bd3786"
                          ],
                          [
                            0.5555555555555556,
                            "#d8576b"
                          ],
                          [
                            0.6666666666666666,
                            "#ed7953"
                          ],
                          [
                            0.7777777777777778,
                            "#fb9f3a"
                          ],
                          [
                            0.8888888888888888,
                            "#fdca26"
                          ],
                          [
                            1,
                            "#f0f921"
                          ]
                        ]
                      }
                    ],
                    "mesh3d": [
                      {
                        "type": "mesh3d",
                        "colorbar": {
                          "outlinewidth": 0,
                          "ticks": ""
                        }
                      }
                    ],
                    "scatter": [
                      {
                        "marker": {
                          "line": {
                            "color": "#283442"
                          }
                        },
                        "type": "scatter"
                      }
                    ],
                    "parcoords": [
                      {
                        "type": "parcoords",
                        "line": {
                          "colorbar": {
                            "outlinewidth": 0,
                            "ticks": ""
                          }
                        }
                      }
                    ],
                    "scatterpolargl": [
                      {
                        "type": "scatterpolargl",
                        "marker": {
                          "colorbar": {
                            "outlinewidth": 0,
                            "ticks": ""
                          }
                        }
                      }
                    ],
                    "bar": [
                      {
                        "error_x": {
                          "color": "#f2f5fa"
                        },
                        "error_y": {
                          "color": "#f2f5fa"
                        },
                        "marker": {
                          "line": {
                            "color": "rgb(17,17,17)",
                            "width": 0.5
                          },
                          "pattern": {
                            "fillmode": "overlay",
                            "size": 10,
                            "solidity": 0.2
                          }
                        },
                        "type": "bar"
                      }
                    ],
                    "scattergeo": [
                      {
                        "type": "scattergeo",
                        "marker": {
                          "colorbar": {
                            "outlinewidth": 0,
                            "ticks": ""
                          }
                        }
                      }
                    ],
                    "scatterpolar": [
                      {
                        "type": "scatterpolar",
                        "marker": {
                          "colorbar": {
                            "outlinewidth": 0,
                            "ticks": ""
                          }
                        }
                      }
                    ],
                    "histogram": [
                      {
                        "marker": {
                          "pattern": {
                            "fillmode": "overlay",
                            "size": 10,
                            "solidity": 0.2
                          }
                        },
                        "type": "histogram"
                      }
                    ],
                    "scattergl": [
                      {
                        "marker": {
                          "line": {
                            "color": "#283442"
                          }
                        },
                        "type": "scattergl"
                      }
                    ],
                    "scatter3d": [
                      {
                        "type": "scatter3d",
                        "line": {
                          "colorbar": {
                            "outlinewidth": 0,
                            "ticks": ""
                          }
                        },
                        "marker": {
                          "colorbar": {
                            "outlinewidth": 0,
                            "ticks": ""
                          }
                        }
                      }
                    ],
                    "scattermap": [
                      {
                        "type": "scattermap",
                        "marker": {
                          "colorbar": {
                            "outlinewidth": 0,
                            "ticks": ""
                          }
                        }
                      }
                    ],
                    "scattermapbox": [
                      {
                        "type": "scattermapbox",
                        "marker": {
                          "colorbar": {
                            "outlinewidth": 0,
                            "ticks": ""
                          }
                        }
                      }
                    ],
                    "scatterternary": [
                      {
                        "type": "scatterternary",
                        "marker": {
                          "colorbar": {
                            "outlinewidth": 0,
                            "ticks": ""
                          }
                        }
                      }
                    ],
                    "scattercarpet": [
                      {
                        "type": "scattercarpet",
                        "marker": {
                          "colorbar": {
                            "outlinewidth": 0,
                            "ticks": ""
                          }
                        }
                      }
                    ],
                    "carpet": [
                      {
                        "aaxis": {
                          "endlinecolor": "#A2B1C6",
                          "gridcolor": "#506784",
                          "linecolor": "#506784",
                          "minorgridcolor": "#506784",
                          "startlinecolor": "#A2B1C6"
                        },
                        "baxis": {
                          "endlinecolor": "#A2B1C6",
                          "gridcolor": "#506784",
                          "linecolor": "#506784",
                          "minorgridcolor": "#506784",
                          "startlinecolor": "#A2B1C6"
                        },
                        "type": "carpet"
                      }
                    ],
                    "table": [
                      {
                        "cells": {
                          "fill": {
                            "color": "#506784"
                          },
                          "line": {
                            "color": "rgb(17,17,17)"
                          }
                        },
                        "header": {
                          "fill": {
                            "color": "#2a3f5f"
                          },
                          "line": {
                            "color": "rgb(17,17,17)"
                          }
                        },
                        "type": "table"
                      }
                    ],
                    "barpolar": [
                      {
                        "marker": {
                          "line": {
                            "color": "rgb(17,17,17)",
                            "width": 0.5
                          },
                          "pattern": {
                            "fillmode": "overlay",
                            "size": 10,
                            "solidity": 0.2
                          }
                        },
                        "type": "barpolar"
                      }
                    ],
                    "pie": [
                      {
                        "automargin": true,
                        "type": "pie"
                      }
                    ]
                  },
                  "layout": {
                    "autotypenumbers": "strict",
                    "colorway": [
                      "#636efa",
                      "#EF553B",
                      "#00cc96",
                      "#ab63fa",
                      "#FFA15A",
                      "#19d3f3",
                      "#FF6692",
                      "#B6E880",
                      "#FF97FF",
                      "#FECB52"
                    ],
                    "font": {
                      "color": "#f2f5fa"
                    },
                    "hovermode": "closest",
                    "hoverlabel": {
                      "align": "left"
                    },
                    "paper_bgcolor": "rgb(17,17,17)",
                    "plot_bgcolor": "rgb(17,17,17)",
                    "polar": {
                      "bgcolor": "rgb(17,17,17)",
                      "angularaxis": {
                        "gridcolor": "#506784",
                        "linecolor": "#506784",
                        "ticks": ""
                      },
                      "radialaxis": {
                        "gridcolor": "#506784",
                        "linecolor": "#506784",
                        "ticks": ""
                      }
                    },
                    "ternary": {
                      "bgcolor": "rgb(17,17,17)",
                      "aaxis": {
                        "gridcolor": "#506784",
                        "linecolor": "#506784",
                        "ticks": ""
                      },
                      "baxis": {
                        "gridcolor": "#506784",
                        "linecolor": "#506784",
                        "ticks": ""
                      },
                      "caxis": {
                        "gridcolor": "#506784",
                        "linecolor": "#506784",
                        "ticks": ""
                      }
                    },
                    "coloraxis": {
                      "colorbar": {
                        "outlinewidth": 0,
                        "ticks": ""
                      }
                    },
                    "colorscale": {
                      "sequential": [
                        [
                          0,
                          "#0d0887"
                        ],
                        [
                          0.1111111111111111,
                          "#46039f"
                        ],
                        [
                          0.2222222222222222,
                          "#7201a8"
                        ],
                        [
                          0.3333333333333333,
                          "#9c179e"
                        ],
                        [
                          0.4444444444444444,
                          "#bd3786"
                        ],
                        [
                          0.5555555555555556,
                          "#d8576b"
                        ],
                        [
                          0.6666666666666666,
                          "#ed7953"
                        ],
                        [
                          0.7777777777777778,
                          "#fb9f3a"
                        ],
                        [
                          0.8888888888888888,
                          "#fdca26"
                        ],
                        [
                          1,
                          "#f0f921"
                        ]
                      ],
                      "sequentialminus": [
                        [
                          0,
                          "#0d0887"
                        ],
                        [
                          0.1111111111111111,
                          "#46039f"
                        ],
                        [
                          0.2222222222222222,
                          "#7201a8"
                        ],
                        [
                          0.3333333333333333,
                          "#9c179e"
                        ],
                        [
                          0.4444444444444444,
                          "#bd3786"
                        ],
                        [
                          0.5555555555555556,
                          "#d8576b"
                        ],
                        [
                          0.6666666666666666,
                          "#ed7953"
                        ],
                        [
                          0.7777777777777778,
                          "#fb9f3a"
                        ],
                        [
                          0.8888888888888888,
                          "#fdca26"
                        ],
                        [
                          1,
                          "#f0f921"
                        ]
                      ],
                      "diverging": [
                        [
                          0,
                          "#8e0152"
                        ],
                        [
                          0.1,
                          "#c51b7d"
                        ],
                        [
                          0.2,
                          "#de77ae"
                        ],
                        [
                          0.3,
                          "#f1b6da"
                        ],
                        [
                          0.4,
                          "#fde0ef"
                        ],
                        [
                          0.5,
                          "#f7f7f7"
                        ],
                        [
                          0.6,
                          "#e6f5d0"
                        ],
                        [
                          0.7,
                          "#b8e186"
                        ],
                        [
                          0.8,
                          "#7fbc41"
                        ],
                        [
                          0.9,
                          "#4d9221"
                        ],
                        [
                          1,
                          "#276419"
                        ]
                      ]
                    },
                    "xaxis": {
                      "gridcolor": "#283442",
                      "linecolor": "#506784",
                      "ticks": "",
                      "title": {
                        "standoff": 15
                      },
                      "zerolinecolor": "#283442",
                      "automargin": true,
                      "zerolinewidth": 2
                    },
                    "yaxis": {
                      "gridcolor": "#283442",
                      "linecolor": "#506784",
                      "ticks": "",
                      "title": {
                        "standoff": 15
                      },
                      "zerolinecolor": "#283442",
                      "automargin": true,
                      "zerolinewidth": 2
                    },
                    "scene": {
                      "xaxis": {
                        "backgroundcolor": "rgb(17,17,17)",
                        "gridcolor": "#506784",
                        "linecolor": "#506784",
                        "showbackground": true,
                        "ticks": "",
                        "zerolinecolor": "#C8D4E3",
                        "gridwidth": 2
                      },
                      "yaxis": {
                        "backgroundcolor": "rgb(17,17,17)",
                        "gridcolor": "#506784",
                        "linecolor": "#506784",
                        "showbackground": true,
                        "ticks": "",
                        "zerolinecolor": "#C8D4E3",
                        "gridwidth": 2
                      },
                      "zaxis": {
                        "backgroundcolor": "rgb(17,17,17)",
                        "gridcolor": "#506784",
                        "linecolor": "#506784",
                        "showbackground": true,
                        "ticks": "",
                        "zerolinecolor": "#C8D4E3",
                        "gridwidth": 2
                      }
                    },
                    "shapedefaults": {
                      "line": {
                        "color": "#f2f5fa"
                      }
                    },
                    "annotationdefaults": {
                      "arrowcolor": "#f2f5fa",
                      "arrowhead": 0,
                      "arrowwidth": 1
                    },
                    "geo": {
                      "bgcolor": "rgb(17,17,17)",
                      "landcolor": "rgb(17,17,17)",
                      "subunitcolor": "#506784",
                      "showland": true,
                      "showlakes": true,
                      "lakecolor": "rgb(17,17,17)"
                    },
                    "title": {
                      "x": 0.05
                    },
                    "updatemenudefaults": {
                      "bgcolor": "#506784",
                      "borderwidth": 0
                    },
                    "sliderdefaults": {
                      "bgcolor": "#C8D4E3",
                      "borderwidth": 1,
                      "bordercolor": "rgb(17,17,17)",
                      "tickwidth": 0
                    },
                    "mapbox": {
                      "style": "dark"
                    }
                  }
                },
                "xaxis": {
                  "anchor": "y",
                  "domain": [
                    0,
                    1
                  ],
                  "title": {
                    "text": "Date"
                  }
                },
                "yaxis": {
                  "anchor": "x",
                  "domain": [
                    0,
                    1
                  ],
                  "title": {
                    "text": "Total Volume (USD)"
                  }
                },
                "legend": {
                  "tracegroupgap": 0
                },
                "title": {
                  "text": "Transaction Volume (USD) Over Time"
                }
              },
              "config": {
                "plotlyServerURL": "https://plot.ly"
              }
            }
          },
          "metadata": {},
          "output_type": "display_data"
        }
      ],
      "execution_count": null
    },
    {
      "metadata": {
        "id": "b190b015f7b695f6"
      },
      "cell_type": "markdown",
      "source": [
        "# PLOT 2: Top Assets by Transaction Value"
      ],
      "id": "b190b015f7b695f6"
    },
    {
      "metadata": {
        "ExecuteTime": {
          "end_time": "2025-05-24T17:13:05.919842Z",
          "start_time": "2025-05-24T17:13:05.899275Z"
        },
        "id": "84ef5c6e8a959f67",
        "outputId": "e0fcec34-3c18-4b7e-902b-61b480609440"
      },
      "cell_type": "code",
      "source": [
        "asset_totals = df.groupby('Crypto')['Total_Value'].sum().sort_values(ascending=False).head(10)\n",
        "fig_bar = px.bar(\n",
        "    x=asset_totals.index, y=asset_totals.values,\n",
        "    title='Top 10 Crypto Assets by Transaction Value (USD)',\n",
        "    labels={'x': 'Crypto Asset', 'y': 'Total Transaction Value (USD)'}\n",
        ")\n",
        "fig_bar.show()"
      ],
      "id": "84ef5c6e8a959f67",
      "outputs": [
        {
          "data": {
            "application/vnd.plotly.v1+json": {
              "data": [
                {
                  "hovertemplate": "Crypto Asset=%{x}<br>Total Transaction Value (USD)=%{y}<extra></extra>",
                  "legendgroup": "",
                  "marker": {
                    "color": "#636efa",
                    "pattern": {
                      "shape": ""
                    }
                  },
                  "name": "",
                  "orientation": "v",
                  "showlegend": false,
                  "textposition": "auto",
                  "x": [
                    "Polkadot",
                    "Ethereum",
                    "Bitcoin",
                    "Cardano",
                    "BNB",
                    "Avalanche",
                    "Solana",
                    "Dogecoin",
                    "XRP",
                    "Litecoin"
                  ],
                  "xaxis": "x",
                  "y": {
                    "dtype": "f8",
                    "bdata": "pHDtsoWQ2EEK1/OAr4XXQR+Fi/QZftdBCtfD0h8Q10G4HnU0WFfWQXE9+tSBNdZBKVwfDQr31UH2KHwfR6TVQQrXAxLa49RBZmZ26/3R1EE="
                  },
                  "yaxis": "y",
                  "type": "bar"
                }
              ],
              "layout": {
                "template": {
                  "data": {
                    "histogram2dcontour": [
                      {
                        "type": "histogram2dcontour",
                        "colorbar": {
                          "outlinewidth": 0,
                          "ticks": ""
                        },
                        "colorscale": [
                          [
                            0,
                            "#0d0887"
                          ],
                          [
                            0.1111111111111111,
                            "#46039f"
                          ],
                          [
                            0.2222222222222222,
                            "#7201a8"
                          ],
                          [
                            0.3333333333333333,
                            "#9c179e"
                          ],
                          [
                            0.4444444444444444,
                            "#bd3786"
                          ],
                          [
                            0.5555555555555556,
                            "#d8576b"
                          ],
                          [
                            0.6666666666666666,
                            "#ed7953"
                          ],
                          [
                            0.7777777777777778,
                            "#fb9f3a"
                          ],
                          [
                            0.8888888888888888,
                            "#fdca26"
                          ],
                          [
                            1,
                            "#f0f921"
                          ]
                        ]
                      }
                    ],
                    "choropleth": [
                      {
                        "type": "choropleth",
                        "colorbar": {
                          "outlinewidth": 0,
                          "ticks": ""
                        }
                      }
                    ],
                    "histogram2d": [
                      {
                        "type": "histogram2d",
                        "colorbar": {
                          "outlinewidth": 0,
                          "ticks": ""
                        },
                        "colorscale": [
                          [
                            0,
                            "#0d0887"
                          ],
                          [
                            0.1111111111111111,
                            "#46039f"
                          ],
                          [
                            0.2222222222222222,
                            "#7201a8"
                          ],
                          [
                            0.3333333333333333,
                            "#9c179e"
                          ],
                          [
                            0.4444444444444444,
                            "#bd3786"
                          ],
                          [
                            0.5555555555555556,
                            "#d8576b"
                          ],
                          [
                            0.6666666666666666,
                            "#ed7953"
                          ],
                          [
                            0.7777777777777778,
                            "#fb9f3a"
                          ],
                          [
                            0.8888888888888888,
                            "#fdca26"
                          ],
                          [
                            1,
                            "#f0f921"
                          ]
                        ]
                      }
                    ],
                    "heatmap": [
                      {
                        "type": "heatmap",
                        "colorbar": {
                          "outlinewidth": 0,
                          "ticks": ""
                        },
                        "colorscale": [
                          [
                            0,
                            "#0d0887"
                          ],
                          [
                            0.1111111111111111,
                            "#46039f"
                          ],
                          [
                            0.2222222222222222,
                            "#7201a8"
                          ],
                          [
                            0.3333333333333333,
                            "#9c179e"
                          ],
                          [
                            0.4444444444444444,
                            "#bd3786"
                          ],
                          [
                            0.5555555555555556,
                            "#d8576b"
                          ],
                          [
                            0.6666666666666666,
                            "#ed7953"
                          ],
                          [
                            0.7777777777777778,
                            "#fb9f3a"
                          ],
                          [
                            0.8888888888888888,
                            "#fdca26"
                          ],
                          [
                            1,
                            "#f0f921"
                          ]
                        ]
                      }
                    ],
                    "contourcarpet": [
                      {
                        "type": "contourcarpet",
                        "colorbar": {
                          "outlinewidth": 0,
                          "ticks": ""
                        }
                      }
                    ],
                    "contour": [
                      {
                        "type": "contour",
                        "colorbar": {
                          "outlinewidth": 0,
                          "ticks": ""
                        },
                        "colorscale": [
                          [
                            0,
                            "#0d0887"
                          ],
                          [
                            0.1111111111111111,
                            "#46039f"
                          ],
                          [
                            0.2222222222222222,
                            "#7201a8"
                          ],
                          [
                            0.3333333333333333,
                            "#9c179e"
                          ],
                          [
                            0.4444444444444444,
                            "#bd3786"
                          ],
                          [
                            0.5555555555555556,
                            "#d8576b"
                          ],
                          [
                            0.6666666666666666,
                            "#ed7953"
                          ],
                          [
                            0.7777777777777778,
                            "#fb9f3a"
                          ],
                          [
                            0.8888888888888888,
                            "#fdca26"
                          ],
                          [
                            1,
                            "#f0f921"
                          ]
                        ]
                      }
                    ],
                    "surface": [
                      {
                        "type": "surface",
                        "colorbar": {
                          "outlinewidth": 0,
                          "ticks": ""
                        },
                        "colorscale": [
                          [
                            0,
                            "#0d0887"
                          ],
                          [
                            0.1111111111111111,
                            "#46039f"
                          ],
                          [
                            0.2222222222222222,
                            "#7201a8"
                          ],
                          [
                            0.3333333333333333,
                            "#9c179e"
                          ],
                          [
                            0.4444444444444444,
                            "#bd3786"
                          ],
                          [
                            0.5555555555555556,
                            "#d8576b"
                          ],
                          [
                            0.6666666666666666,
                            "#ed7953"
                          ],
                          [
                            0.7777777777777778,
                            "#fb9f3a"
                          ],
                          [
                            0.8888888888888888,
                            "#fdca26"
                          ],
                          [
                            1,
                            "#f0f921"
                          ]
                        ]
                      }
                    ],
                    "mesh3d": [
                      {
                        "type": "mesh3d",
                        "colorbar": {
                          "outlinewidth": 0,
                          "ticks": ""
                        }
                      }
                    ],
                    "scatter": [
                      {
                        "marker": {
                          "line": {
                            "color": "#283442"
                          }
                        },
                        "type": "scatter"
                      }
                    ],
                    "parcoords": [
                      {
                        "type": "parcoords",
                        "line": {
                          "colorbar": {
                            "outlinewidth": 0,
                            "ticks": ""
                          }
                        }
                      }
                    ],
                    "scatterpolargl": [
                      {
                        "type": "scatterpolargl",
                        "marker": {
                          "colorbar": {
                            "outlinewidth": 0,
                            "ticks": ""
                          }
                        }
                      }
                    ],
                    "bar": [
                      {
                        "error_x": {
                          "color": "#f2f5fa"
                        },
                        "error_y": {
                          "color": "#f2f5fa"
                        },
                        "marker": {
                          "line": {
                            "color": "rgb(17,17,17)",
                            "width": 0.5
                          },
                          "pattern": {
                            "fillmode": "overlay",
                            "size": 10,
                            "solidity": 0.2
                          }
                        },
                        "type": "bar"
                      }
                    ],
                    "scattergeo": [
                      {
                        "type": "scattergeo",
                        "marker": {
                          "colorbar": {
                            "outlinewidth": 0,
                            "ticks": ""
                          }
                        }
                      }
                    ],
                    "scatterpolar": [
                      {
                        "type": "scatterpolar",
                        "marker": {
                          "colorbar": {
                            "outlinewidth": 0,
                            "ticks": ""
                          }
                        }
                      }
                    ],
                    "histogram": [
                      {
                        "marker": {
                          "pattern": {
                            "fillmode": "overlay",
                            "size": 10,
                            "solidity": 0.2
                          }
                        },
                        "type": "histogram"
                      }
                    ],
                    "scattergl": [
                      {
                        "marker": {
                          "line": {
                            "color": "#283442"
                          }
                        },
                        "type": "scattergl"
                      }
                    ],
                    "scatter3d": [
                      {
                        "type": "scatter3d",
                        "line": {
                          "colorbar": {
                            "outlinewidth": 0,
                            "ticks": ""
                          }
                        },
                        "marker": {
                          "colorbar": {
                            "outlinewidth": 0,
                            "ticks": ""
                          }
                        }
                      }
                    ],
                    "scattermap": [
                      {
                        "type": "scattermap",
                        "marker": {
                          "colorbar": {
                            "outlinewidth": 0,
                            "ticks": ""
                          }
                        }
                      }
                    ],
                    "scattermapbox": [
                      {
                        "type": "scattermapbox",
                        "marker": {
                          "colorbar": {
                            "outlinewidth": 0,
                            "ticks": ""
                          }
                        }
                      }
                    ],
                    "scatterternary": [
                      {
                        "type": "scatterternary",
                        "marker": {
                          "colorbar": {
                            "outlinewidth": 0,
                            "ticks": ""
                          }
                        }
                      }
                    ],
                    "scattercarpet": [
                      {
                        "type": "scattercarpet",
                        "marker": {
                          "colorbar": {
                            "outlinewidth": 0,
                            "ticks": ""
                          }
                        }
                      }
                    ],
                    "carpet": [
                      {
                        "aaxis": {
                          "endlinecolor": "#A2B1C6",
                          "gridcolor": "#506784",
                          "linecolor": "#506784",
                          "minorgridcolor": "#506784",
                          "startlinecolor": "#A2B1C6"
                        },
                        "baxis": {
                          "endlinecolor": "#A2B1C6",
                          "gridcolor": "#506784",
                          "linecolor": "#506784",
                          "minorgridcolor": "#506784",
                          "startlinecolor": "#A2B1C6"
                        },
                        "type": "carpet"
                      }
                    ],
                    "table": [
                      {
                        "cells": {
                          "fill": {
                            "color": "#506784"
                          },
                          "line": {
                            "color": "rgb(17,17,17)"
                          }
                        },
                        "header": {
                          "fill": {
                            "color": "#2a3f5f"
                          },
                          "line": {
                            "color": "rgb(17,17,17)"
                          }
                        },
                        "type": "table"
                      }
                    ],
                    "barpolar": [
                      {
                        "marker": {
                          "line": {
                            "color": "rgb(17,17,17)",
                            "width": 0.5
                          },
                          "pattern": {
                            "fillmode": "overlay",
                            "size": 10,
                            "solidity": 0.2
                          }
                        },
                        "type": "barpolar"
                      }
                    ],
                    "pie": [
                      {
                        "automargin": true,
                        "type": "pie"
                      }
                    ]
                  },
                  "layout": {
                    "autotypenumbers": "strict",
                    "colorway": [
                      "#636efa",
                      "#EF553B",
                      "#00cc96",
                      "#ab63fa",
                      "#FFA15A",
                      "#19d3f3",
                      "#FF6692",
                      "#B6E880",
                      "#FF97FF",
                      "#FECB52"
                    ],
                    "font": {
                      "color": "#f2f5fa"
                    },
                    "hovermode": "closest",
                    "hoverlabel": {
                      "align": "left"
                    },
                    "paper_bgcolor": "rgb(17,17,17)",
                    "plot_bgcolor": "rgb(17,17,17)",
                    "polar": {
                      "bgcolor": "rgb(17,17,17)",
                      "angularaxis": {
                        "gridcolor": "#506784",
                        "linecolor": "#506784",
                        "ticks": ""
                      },
                      "radialaxis": {
                        "gridcolor": "#506784",
                        "linecolor": "#506784",
                        "ticks": ""
                      }
                    },
                    "ternary": {
                      "bgcolor": "rgb(17,17,17)",
                      "aaxis": {
                        "gridcolor": "#506784",
                        "linecolor": "#506784",
                        "ticks": ""
                      },
                      "baxis": {
                        "gridcolor": "#506784",
                        "linecolor": "#506784",
                        "ticks": ""
                      },
                      "caxis": {
                        "gridcolor": "#506784",
                        "linecolor": "#506784",
                        "ticks": ""
                      }
                    },
                    "coloraxis": {
                      "colorbar": {
                        "outlinewidth": 0,
                        "ticks": ""
                      }
                    },
                    "colorscale": {
                      "sequential": [
                        [
                          0,
                          "#0d0887"
                        ],
                        [
                          0.1111111111111111,
                          "#46039f"
                        ],
                        [
                          0.2222222222222222,
                          "#7201a8"
                        ],
                        [
                          0.3333333333333333,
                          "#9c179e"
                        ],
                        [
                          0.4444444444444444,
                          "#bd3786"
                        ],
                        [
                          0.5555555555555556,
                          "#d8576b"
                        ],
                        [
                          0.6666666666666666,
                          "#ed7953"
                        ],
                        [
                          0.7777777777777778,
                          "#fb9f3a"
                        ],
                        [
                          0.8888888888888888,
                          "#fdca26"
                        ],
                        [
                          1,
                          "#f0f921"
                        ]
                      ],
                      "sequentialminus": [
                        [
                          0,
                          "#0d0887"
                        ],
                        [
                          0.1111111111111111,
                          "#46039f"
                        ],
                        [
                          0.2222222222222222,
                          "#7201a8"
                        ],
                        [
                          0.3333333333333333,
                          "#9c179e"
                        ],
                        [
                          0.4444444444444444,
                          "#bd3786"
                        ],
                        [
                          0.5555555555555556,
                          "#d8576b"
                        ],
                        [
                          0.6666666666666666,
                          "#ed7953"
                        ],
                        [
                          0.7777777777777778,
                          "#fb9f3a"
                        ],
                        [
                          0.8888888888888888,
                          "#fdca26"
                        ],
                        [
                          1,
                          "#f0f921"
                        ]
                      ],
                      "diverging": [
                        [
                          0,
                          "#8e0152"
                        ],
                        [
                          0.1,
                          "#c51b7d"
                        ],
                        [
                          0.2,
                          "#de77ae"
                        ],
                        [
                          0.3,
                          "#f1b6da"
                        ],
                        [
                          0.4,
                          "#fde0ef"
                        ],
                        [
                          0.5,
                          "#f7f7f7"
                        ],
                        [
                          0.6,
                          "#e6f5d0"
                        ],
                        [
                          0.7,
                          "#b8e186"
                        ],
                        [
                          0.8,
                          "#7fbc41"
                        ],
                        [
                          0.9,
                          "#4d9221"
                        ],
                        [
                          1,
                          "#276419"
                        ]
                      ]
                    },
                    "xaxis": {
                      "gridcolor": "#283442",
                      "linecolor": "#506784",
                      "ticks": "",
                      "title": {
                        "standoff": 15
                      },
                      "zerolinecolor": "#283442",
                      "automargin": true,
                      "zerolinewidth": 2
                    },
                    "yaxis": {
                      "gridcolor": "#283442",
                      "linecolor": "#506784",
                      "ticks": "",
                      "title": {
                        "standoff": 15
                      },
                      "zerolinecolor": "#283442",
                      "automargin": true,
                      "zerolinewidth": 2
                    },
                    "scene": {
                      "xaxis": {
                        "backgroundcolor": "rgb(17,17,17)",
                        "gridcolor": "#506784",
                        "linecolor": "#506784",
                        "showbackground": true,
                        "ticks": "",
                        "zerolinecolor": "#C8D4E3",
                        "gridwidth": 2
                      },
                      "yaxis": {
                        "backgroundcolor": "rgb(17,17,17)",
                        "gridcolor": "#506784",
                        "linecolor": "#506784",
                        "showbackground": true,
                        "ticks": "",
                        "zerolinecolor": "#C8D4E3",
                        "gridwidth": 2
                      },
                      "zaxis": {
                        "backgroundcolor": "rgb(17,17,17)",
                        "gridcolor": "#506784",
                        "linecolor": "#506784",
                        "showbackground": true,
                        "ticks": "",
                        "zerolinecolor": "#C8D4E3",
                        "gridwidth": 2
                      }
                    },
                    "shapedefaults": {
                      "line": {
                        "color": "#f2f5fa"
                      }
                    },
                    "annotationdefaults": {
                      "arrowcolor": "#f2f5fa",
                      "arrowhead": 0,
                      "arrowwidth": 1
                    },
                    "geo": {
                      "bgcolor": "rgb(17,17,17)",
                      "landcolor": "rgb(17,17,17)",
                      "subunitcolor": "#506784",
                      "showland": true,
                      "showlakes": true,
                      "lakecolor": "rgb(17,17,17)"
                    },
                    "title": {
                      "x": 0.05
                    },
                    "updatemenudefaults": {
                      "bgcolor": "#506784",
                      "borderwidth": 0
                    },
                    "sliderdefaults": {
                      "bgcolor": "#C8D4E3",
                      "borderwidth": 1,
                      "bordercolor": "rgb(17,17,17)",
                      "tickwidth": 0
                    },
                    "mapbox": {
                      "style": "dark"
                    }
                  }
                },
                "xaxis": {
                  "anchor": "y",
                  "domain": [
                    0,
                    1
                  ],
                  "title": {
                    "text": "Crypto Asset"
                  }
                },
                "yaxis": {
                  "anchor": "x",
                  "domain": [
                    0,
                    1
                  ],
                  "title": {
                    "text": "Total Transaction Value (USD)"
                  }
                },
                "legend": {
                  "tracegroupgap": 0
                },
                "title": {
                  "text": "Top 10 Crypto Assets by Transaction Value (USD)"
                },
                "barmode": "relative"
              },
              "config": {
                "plotlyServerURL": "https://plot.ly"
              }
            }
          },
          "metadata": {},
          "output_type": "display_data"
        }
      ],
      "execution_count": null
    },
    {
      "metadata": {
        "id": "9093b09a9af8df61"
      },
      "cell_type": "markdown",
      "source": [
        "# PLOT 3: Distribution of Transaction Amounts"
      ],
      "id": "9093b09a9af8df61"
    },
    {
      "metadata": {
        "ExecuteTime": {
          "end_time": "2025-05-24T17:13:27.392048Z",
          "start_time": "2025-05-24T17:13:27.369439Z"
        },
        "id": "e6197e80bce5b2c5",
        "outputId": "3e71b9c6-80b5-491e-e03a-15d0593bbf8d"
      },
      "cell_type": "code",
      "source": [
        "fig_hist = px.histogram(\n",
        "    df, x='Total_Value', nbins=50,\n",
        "    title='Distribution of Transaction Values (USD)',\n",
        "    labels={'Total_Value': 'Transaction Value (USD)'}\n",
        ")\n",
        "fig_hist.show()"
      ],
      "id": "e6197e80bce5b2c5",
      "outputs": [
        {
          "data": {
            "application/vnd.plotly.v1+json": {
              "data": [
                {
                  "bingroup": "x",
                  "hovertemplate": "Transaction Value (USD)=%{x}<br>count=%{y}<extra></extra>",
                  "legendgroup": "",
                  "marker": {
                    "color": "#636efa",
                    "pattern": {
                      "shape": ""
                    }
                  },
                  "name": "",
                  "nbinsx": 50,
                  "orientation": "v",
                  "showlegend": false,
                  "x": {
                    "dtype": "f8",
                    "bdata": "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"
                  },
                  "xaxis": "x",
                  "yaxis": "y",
                  "type": "histogram"
                }
              ],
              "layout": {
                "template": {
                  "data": {
                    "histogram2dcontour": [
                      {
                        "type": "histogram2dcontour",
                        "colorbar": {
                          "outlinewidth": 0,
                          "ticks": ""
                        },
                        "colorscale": [
                          [
                            0,
                            "#0d0887"
                          ],
                          [
                            0.1111111111111111,
                            "#46039f"
                          ],
                          [
                            0.2222222222222222,
                            "#7201a8"
                          ],
                          [
                            0.3333333333333333,
                            "#9c179e"
                          ],
                          [
                            0.4444444444444444,
                            "#bd3786"
                          ],
                          [
                            0.5555555555555556,
                            "#d8576b"
                          ],
                          [
                            0.6666666666666666,
                            "#ed7953"
                          ],
                          [
                            0.7777777777777778,
                            "#fb9f3a"
                          ],
                          [
                            0.8888888888888888,
                            "#fdca26"
                          ],
                          [
                            1,
                            "#f0f921"
                          ]
                        ]
                      }
                    ],
                    "choropleth": [
                      {
                        "type": "choropleth",
                        "colorbar": {
                          "outlinewidth": 0,
                          "ticks": ""
                        }
                      }
                    ],
                    "histogram2d": [
                      {
                        "type": "histogram2d",
                        "colorbar": {
                          "outlinewidth": 0,
                          "ticks": ""
                        },
                        "colorscale": [
                          [
                            0,
                            "#0d0887"
                          ],
                          [
                            0.1111111111111111,
                            "#46039f"
                          ],
                          [
                            0.2222222222222222,
                            "#7201a8"
                          ],
                          [
                            0.3333333333333333,
                            "#9c179e"
                          ],
                          [
                            0.4444444444444444,
                            "#bd3786"
                          ],
                          [
                            0.5555555555555556,
                            "#d8576b"
                          ],
                          [
                            0.6666666666666666,
                            "#ed7953"
                          ],
                          [
                            0.7777777777777778,
                            "#fb9f3a"
                          ],
                          [
                            0.8888888888888888,
                            "#fdca26"
                          ],
                          [
                            1,
                            "#f0f921"
                          ]
                        ]
                      }
                    ],
                    "heatmap": [
                      {
                        "type": "heatmap",
                        "colorbar": {
                          "outlinewidth": 0,
                          "ticks": ""
                        },
                        "colorscale": [
                          [
                            0,
                            "#0d0887"
                          ],
                          [
                            0.1111111111111111,
                            "#46039f"
                          ],
                          [
                            0.2222222222222222,
                            "#7201a8"
                          ],
                          [
                            0.3333333333333333,
                            "#9c179e"
                          ],
                          [
                            0.4444444444444444,
                            "#bd3786"
                          ],
                          [
                            0.5555555555555556,
                            "#d8576b"
                          ],
                          [
                            0.6666666666666666,
                            "#ed7953"
                          ],
                          [
                            0.7777777777777778,
                            "#fb9f3a"
                          ],
                          [
                            0.8888888888888888,
                            "#fdca26"
                          ],
                          [
                            1,
                            "#f0f921"
                          ]
                        ]
                      }
                    ],
                    "contourcarpet": [
                      {
                        "type": "contourcarpet",
                        "colorbar": {
                          "outlinewidth": 0,
                          "ticks": ""
                        }
                      }
                    ],
                    "contour": [
                      {
                        "type": "contour",
                        "colorbar": {
                          "outlinewidth": 0,
                          "ticks": ""
                        },
                        "colorscale": [
                          [
                            0,
                            "#0d0887"
                          ],
                          [
                            0.1111111111111111,
                            "#46039f"
                          ],
                          [
                            0.2222222222222222,
                            "#7201a8"
                          ],
                          [
                            0.3333333333333333,
                            "#9c179e"
                          ],
                          [
                            0.4444444444444444,
                            "#bd3786"
                          ],
                          [
                            0.5555555555555556,
                            "#d8576b"
                          ],
                          [
                            0.6666666666666666,
                            "#ed7953"
                          ],
                          [
                            0.7777777777777778,
                            "#fb9f3a"
                          ],
                          [
                            0.8888888888888888,
                            "#fdca26"
                          ],
                          [
                            1,
                            "#f0f921"
                          ]
                        ]
                      }
                    ],
                    "surface": [
                      {
                        "type": "surface",
                        "colorbar": {
                          "outlinewidth": 0,
                          "ticks": ""
                        },
                        "colorscale": [
                          [
                            0,
                            "#0d0887"
                          ],
                          [
                            0.1111111111111111,
                            "#46039f"
                          ],
                          [
                            0.2222222222222222,
                            "#7201a8"
                          ],
                          [
                            0.3333333333333333,
                            "#9c179e"
                          ],
                          [
                            0.4444444444444444,
                            "#bd3786"
                          ],
                          [
                            0.5555555555555556,
                            "#d8576b"
                          ],
                          [
                            0.6666666666666666,
                            "#ed7953"
                          ],
                          [
                            0.7777777777777778,
                            "#fb9f3a"
                          ],
                          [
                            0.8888888888888888,
                            "#fdca26"
                          ],
                          [
                            1,
                            "#f0f921"
                          ]
                        ]
                      }
                    ],
                    "mesh3d": [
                      {
                        "type": "mesh3d",
                        "colorbar": {
                          "outlinewidth": 0,
                          "ticks": ""
                        }
                      }
                    ],
                    "scatter": [
                      {
                        "marker": {
                          "line": {
                            "color": "#283442"
                          }
                        },
                        "type": "scatter"
                      }
                    ],
                    "parcoords": [
                      {
                        "type": "parcoords",
                        "line": {
                          "colorbar": {
                            "outlinewidth": 0,
                            "ticks": ""
                          }
                        }
                      }
                    ],
                    "scatterpolargl": [
                      {
                        "type": "scatterpolargl",
                        "marker": {
                          "colorbar": {
                            "outlinewidth": 0,
                            "ticks": ""
                          }
                        }
                      }
                    ],
                    "bar": [
                      {
                        "error_x": {
                          "color": "#f2f5fa"
                        },
                        "error_y": {
                          "color": "#f2f5fa"
                        },
                        "marker": {
                          "line": {
                            "color": "rgb(17,17,17)",
                            "width": 0.5
                          },
                          "pattern": {
                            "fillmode": "overlay",
                            "size": 10,
                            "solidity": 0.2
                          }
                        },
                        "type": "bar"
                      }
                    ],
                    "scattergeo": [
                      {
                        "type": "scattergeo",
                        "marker": {
                          "colorbar": {
                            "outlinewidth": 0,
                            "ticks": ""
                          }
                        }
                      }
                    ],
                    "scatterpolar": [
                      {
                        "type": "scatterpolar",
                        "marker": {
                          "colorbar": {
                            "outlinewidth": 0,
                            "ticks": ""
                          }
                        }
                      }
                    ],
                    "histogram": [
                      {
                        "marker": {
                          "pattern": {
                            "fillmode": "overlay",
                            "size": 10,
                            "solidity": 0.2
                          }
                        },
                        "type": "histogram"
                      }
                    ],
                    "scattergl": [
                      {
                        "marker": {
                          "line": {
                            "color": "#283442"
                          }
                        },
                        "type": "scattergl"
                      }
                    ],
                    "scatter3d": [
                      {
                        "type": "scatter3d",
                        "line": {
                          "colorbar": {
                            "outlinewidth": 0,
                            "ticks": ""
                          }
                        },
                        "marker": {
                          "colorbar": {
                            "outlinewidth": 0,
                            "ticks": ""
                          }
                        }
                      }
                    ],
                    "scattermap": [
                      {
                        "type": "scattermap",
                        "marker": {
                          "colorbar": {
                            "outlinewidth": 0,
                            "ticks": ""
                          }
                        }
                      }
                    ],
                    "scattermapbox": [
                      {
                        "type": "scattermapbox",
                        "marker": {
                          "colorbar": {
                            "outlinewidth": 0,
                            "ticks": ""
                          }
                        }
                      }
                    ],
                    "scatterternary": [
                      {
                        "type": "scatterternary",
                        "marker": {
                          "colorbar": {
                            "outlinewidth": 0,
                            "ticks": ""
                          }
                        }
                      }
                    ],
                    "scattercarpet": [
                      {
                        "type": "scattercarpet",
                        "marker": {
                          "colorbar": {
                            "outlinewidth": 0,
                            "ticks": ""
                          }
                        }
                      }
                    ],
                    "carpet": [
                      {
                        "aaxis": {
                          "endlinecolor": "#A2B1C6",
                          "gridcolor": "#506784",
                          "linecolor": "#506784",
                          "minorgridcolor": "#506784",
                          "startlinecolor": "#A2B1C6"
                        },
                        "baxis": {
                          "endlinecolor": "#A2B1C6",
                          "gridcolor": "#506784",
                          "linecolor": "#506784",
                          "minorgridcolor": "#506784",
                          "startlinecolor": "#A2B1C6"
                        },
                        "type": "carpet"
                      }
                    ],
                    "table": [
                      {
                        "cells": {
                          "fill": {
                            "color": "#506784"
                          },
                          "line": {
                            "color": "rgb(17,17,17)"
                          }
                        },
                        "header": {
                          "fill": {
                            "color": "#2a3f5f"
                          },
                          "line": {
                            "color": "rgb(17,17,17)"
                          }
                        },
                        "type": "table"
                      }
                    ],
                    "barpolar": [
                      {
                        "marker": {
                          "line": {
                            "color": "rgb(17,17,17)",
                            "width": 0.5
                          },
                          "pattern": {
                            "fillmode": "overlay",
                            "size": 10,
                            "solidity": 0.2
                          }
                        },
                        "type": "barpolar"
                      }
                    ],
                    "pie": [
                      {
                        "automargin": true,
                        "type": "pie"
                      }
                    ]
                  },
                  "layout": {
                    "autotypenumbers": "strict",
                    "colorway": [
                      "#636efa",
                      "#EF553B",
                      "#00cc96",
                      "#ab63fa",
                      "#FFA15A",
                      "#19d3f3",
                      "#FF6692",
                      "#B6E880",
                      "#FF97FF",
                      "#FECB52"
                    ],
                    "font": {
                      "color": "#f2f5fa"
                    },
                    "hovermode": "closest",
                    "hoverlabel": {
                      "align": "left"
                    },
                    "paper_bgcolor": "rgb(17,17,17)",
                    "plot_bgcolor": "rgb(17,17,17)",
                    "polar": {
                      "bgcolor": "rgb(17,17,17)",
                      "angularaxis": {
                        "gridcolor": "#506784",
                        "linecolor": "#506784",
                        "ticks": ""
                      },
                      "radialaxis": {
                        "gridcolor": "#506784",
                        "linecolor": "#506784",
                        "ticks": ""
                      }
                    },
                    "ternary": {
                      "bgcolor": "rgb(17,17,17)",
                      "aaxis": {
                        "gridcolor": "#506784",
                        "linecolor": "#506784",
                        "ticks": ""
                      },
                      "baxis": {
                        "gridcolor": "#506784",
                        "linecolor": "#506784",
                        "ticks": ""
                      },
                      "caxis": {
                        "gridcolor": "#506784",
                        "linecolor": "#506784",
                        "ticks": ""
                      }
                    },
                    "coloraxis": {
                      "colorbar": {
                        "outlinewidth": 0,
                        "ticks": ""
                      }
                    },
                    "colorscale": {
                      "sequential": [
                        [
                          0,
                          "#0d0887"
                        ],
                        [
                          0.1111111111111111,
                          "#46039f"
                        ],
                        [
                          0.2222222222222222,
                          "#7201a8"
                        ],
                        [
                          0.3333333333333333,
                          "#9c179e"
                        ],
                        [
                          0.4444444444444444,
                          "#bd3786"
                        ],
                        [
                          0.5555555555555556,
                          "#d8576b"
                        ],
                        [
                          0.6666666666666666,
                          "#ed7953"
                        ],
                        [
                          0.7777777777777778,
                          "#fb9f3a"
                        ],
                        [
                          0.8888888888888888,
                          "#fdca26"
                        ],
                        [
                          1,
                          "#f0f921"
                        ]
                      ],
                      "sequentialminus": [
                        [
                          0,
                          "#0d0887"
                        ],
                        [
                          0.1111111111111111,
                          "#46039f"
                        ],
                        [
                          0.2222222222222222,
                          "#7201a8"
                        ],
                        [
                          0.3333333333333333,
                          "#9c179e"
                        ],
                        [
                          0.4444444444444444,
                          "#bd3786"
                        ],
                        [
                          0.5555555555555556,
                          "#d8576b"
                        ],
                        [
                          0.6666666666666666,
                          "#ed7953"
                        ],
                        [
                          0.7777777777777778,
                          "#fb9f3a"
                        ],
                        [
                          0.8888888888888888,
                          "#fdca26"
                        ],
                        [
                          1,
                          "#f0f921"
                        ]
                      ],
                      "diverging": [
                        [
                          0,
                          "#8e0152"
                        ],
                        [
                          0.1,
                          "#c51b7d"
                        ],
                        [
                          0.2,
                          "#de77ae"
                        ],
                        [
                          0.3,
                          "#f1b6da"
                        ],
                        [
                          0.4,
                          "#fde0ef"
                        ],
                        [
                          0.5,
                          "#f7f7f7"
                        ],
                        [
                          0.6,
                          "#e6f5d0"
                        ],
                        [
                          0.7,
                          "#b8e186"
                        ],
                        [
                          0.8,
                          "#7fbc41"
                        ],
                        [
                          0.9,
                          "#4d9221"
                        ],
                        [
                          1,
                          "#276419"
                        ]
                      ]
                    },
                    "xaxis": {
                      "gridcolor": "#283442",
                      "linecolor": "#506784",
                      "ticks": "",
                      "title": {
                        "standoff": 15
                      },
                      "zerolinecolor": "#283442",
                      "automargin": true,
                      "zerolinewidth": 2
                    },
                    "yaxis": {
                      "gridcolor": "#283442",
                      "linecolor": "#506784",
                      "ticks": "",
                      "title": {
                        "standoff": 15
                      },
                      "zerolinecolor": "#283442",
                      "automargin": true,
                      "zerolinewidth": 2
                    },
                    "scene": {
                      "xaxis": {
                        "backgroundcolor": "rgb(17,17,17)",
                        "gridcolor": "#506784",
                        "linecolor": "#506784",
                        "showbackground": true,
                        "ticks": "",
                        "zerolinecolor": "#C8D4E3",
                        "gridwidth": 2
                      },
                      "yaxis": {
                        "backgroundcolor": "rgb(17,17,17)",
                        "gridcolor": "#506784",
                        "linecolor": "#506784",
                        "showbackground": true,
                        "ticks": "",
                        "zerolinecolor": "#C8D4E3",
                        "gridwidth": 2
                      },
                      "zaxis": {
                        "backgroundcolor": "rgb(17,17,17)",
                        "gridcolor": "#506784",
                        "linecolor": "#506784",
                        "showbackground": true,
                        "ticks": "",
                        "zerolinecolor": "#C8D4E3",
                        "gridwidth": 2
                      }
                    },
                    "shapedefaults": {
                      "line": {
                        "color": "#f2f5fa"
                      }
                    },
                    "annotationdefaults": {
                      "arrowcolor": "#f2f5fa",
                      "arrowhead": 0,
                      "arrowwidth": 1
                    },
                    "geo": {
                      "bgcolor": "rgb(17,17,17)",
                      "landcolor": "rgb(17,17,17)",
                      "subunitcolor": "#506784",
                      "showland": true,
                      "showlakes": true,
                      "lakecolor": "rgb(17,17,17)"
                    },
                    "title": {
                      "x": 0.05
                    },
                    "updatemenudefaults": {
                      "bgcolor": "#506784",
                      "borderwidth": 0
                    },
                    "sliderdefaults": {
                      "bgcolor": "#C8D4E3",
                      "borderwidth": 1,
                      "bordercolor": "rgb(17,17,17)",
                      "tickwidth": 0
                    },
                    "mapbox": {
                      "style": "dark"
                    }
                  }
                },
                "xaxis": {
                  "anchor": "y",
                  "domain": [
                    0,
                    1
                  ],
                  "title": {
                    "text": "Transaction Value (USD)"
                  }
                },
                "yaxis": {
                  "anchor": "x",
                  "domain": [
                    0,
                    1
                  ],
                  "title": {
                    "text": "count"
                  }
                },
                "legend": {
                  "tracegroupgap": 0
                },
                "title": {
                  "text": "Distribution of Transaction Values (USD)"
                },
                "barmode": "relative"
              },
              "config": {
                "plotlyServerURL": "https://plot.ly"
              }
            }
          },
          "metadata": {},
          "output_type": "display_data"
        }
      ],
      "execution_count": null
    },
    {
      "metadata": {
        "id": "770cb2dee091b548"
      },
      "cell_type": "markdown",
      "source": [
        "# KPI SUMMARY TABLE"
      ],
      "id": "770cb2dee091b548"
    },
    {
      "metadata": {
        "id": "25841105983992c1"
      },
      "cell_type": "code",
      "outputs": [],
      "execution_count": null,
      "source": [
        "summary = {\n",
        "    'Total Transactions': [len(df)],\n",
        "    'Unique Crypto Assets': [df['Crypto'].nunique()],\n",
        "    'Unique Users': [df['User_ID'].nunique()],\n",
        "    'Total Volume (USD)': [df['Total_Value'].sum()],\n",
        "    'Median Transaction Value (USD)': [df['Total_Value'].median()]\n",
        "}\n",
        "\n",
        "fig_table = go.Figure(data=[go.Table(\n",
        "    header=dict(values=list(summary.keys())),\n",
        "    cells=dict(values=[v for v in summary.values()])\n",
        ")])\n",
        "fig_table.show()"
      ],
      "id": "25841105983992c1"
    },
    {
      "metadata": {
        "id": "52fb4da9628dec00"
      },
      "cell_type": "code",
      "outputs": [],
      "execution_count": 1,
      "source": [
        "#test"
      ],
      "id": "52fb4da9628dec00"
    }
  ],
  "metadata": {
    "kernelspec": {
      "display_name": "Python 3",
      "language": "python",
      "name": "python3"
    },
    "language_info": {
      "codemirror_mode": {
        "name": "ipython",
        "version": 2
      },
      "file_extension": ".py",
      "mimetype": "text/x-python",
      "name": "python",
      "nbconvert_exporter": "python",
      "pygments_lexer": "ipython2",
      "version": "2.7.6"
    },
    "colab": {
      "provenance": []
    }
  },
  "nbformat": 4,
  "nbformat_minor": 5
}